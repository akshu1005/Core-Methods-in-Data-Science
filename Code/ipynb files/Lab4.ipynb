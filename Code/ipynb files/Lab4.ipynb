{
 "cells": [
  {
   "cell_type": "markdown",
   "id": "24e402af-d383-4cc1-b5a3-ea789a40ad4f",
   "metadata": {},
   "source": [
    "<h1> Lab 4 </h1> \n",
    " Akshita Gundavarapu \n",
    "<h2> 1 Income and education\n",
    "<h3> 1.1\n",
    "    "
   ]
  },
  {
   "cell_type": "code",
   "execution_count": 26,
   "id": "edebf62d-04dc-4679-a181-39aa89456c46",
   "metadata": {},
   "outputs": [],
   "source": [
    "import numpy as np\n",
    "import pandas as pd\n",
    "import matplotlib.pyplot as plt\n",
    "import seaborn as sns\n"
   ]
  },
  {
   "cell_type": "code",
   "execution_count": 13,
   "id": "b7b78d15-1213-4ce0-a809-357bfc352b15",
   "metadata": {},
   "outputs": [
    {
     "data": {
      "text/html": [
       "<div>\n",
       "<style scoped>\n",
       "    .dataframe tbody tr th:only-of-type {\n",
       "        vertical-align: middle;\n",
       "    }\n",
       "\n",
       "    .dataframe tbody tr th {\n",
       "        vertical-align: top;\n",
       "    }\n",
       "\n",
       "    .dataframe thead th {\n",
       "        text-align: right;\n",
       "    }\n",
       "</style>\n",
       "<table border=\"1\" class=\"dataframe\">\n",
       "  <thead>\n",
       "    <tr style=\"text-align: right;\">\n",
       "      <th></th>\n",
       "      <th>Population</th>\n",
       "      <th>Income</th>\n",
       "      <th>Illiteracy</th>\n",
       "      <th>LifeExp</th>\n",
       "      <th>Murder</th>\n",
       "      <th>HSGrad</th>\n",
       "      <th>Frost</th>\n",
       "      <th>Area</th>\n",
       "    </tr>\n",
       "  </thead>\n",
       "  <tbody>\n",
       "    <tr>\n",
       "      <th>0</th>\n",
       "      <td>3615</td>\n",
       "      <td>3624</td>\n",
       "      <td>2.1</td>\n",
       "      <td>69.05</td>\n",
       "      <td>15.1</td>\n",
       "      <td>41.3</td>\n",
       "      <td>20</td>\n",
       "      <td>50708</td>\n",
       "    </tr>\n",
       "    <tr>\n",
       "      <th>1</th>\n",
       "      <td>365</td>\n",
       "      <td>6315</td>\n",
       "      <td>1.5</td>\n",
       "      <td>69.31</td>\n",
       "      <td>11.3</td>\n",
       "      <td>66.7</td>\n",
       "      <td>152</td>\n",
       "      <td>566432</td>\n",
       "    </tr>\n",
       "    <tr>\n",
       "      <th>2</th>\n",
       "      <td>2212</td>\n",
       "      <td>4530</td>\n",
       "      <td>1.8</td>\n",
       "      <td>70.55</td>\n",
       "      <td>7.8</td>\n",
       "      <td>58.1</td>\n",
       "      <td>15</td>\n",
       "      <td>113417</td>\n",
       "    </tr>\n",
       "  </tbody>\n",
       "</table>\n",
       "</div>"
      ],
      "text/plain": [
       "   Population  Income  Illiteracy  LifeExp  Murder  HSGrad  Frost    Area\n",
       "0        3615    3624         2.1    69.05    15.1    41.3     20   50708\n",
       "1         365    6315         1.5    69.31    11.3    66.7    152  566432\n",
       "2        2212    4530         1.8    70.55     7.8    58.1     15  113417"
      ]
     },
     "execution_count": 13,
     "metadata": {},
     "output_type": "execute_result"
    }
   ],
   "source": [
    "states = pd.read_csv(\"data /states.csv\", sep =\"\\t\")\n",
    "states.head(3)\n"
   ]
  },
  {
   "cell_type": "code",
   "execution_count": 14,
   "id": "6522a026-0bf1-4071-9e7c-73a0e81cc42e",
   "metadata": {},
   "outputs": [
    {
     "data": {
      "text/plain": [
       "(50, 8)"
      ]
     },
     "execution_count": 14,
     "metadata": {},
     "output_type": "execute_result"
    }
   ],
   "source": [
    "states.shape"
   ]
  },
  {
   "cell_type": "markdown",
   "id": "585a1cea-45a4-48a5-b159-910a7abc6568",
   "metadata": {},
   "source": [
    "<h3> 1.2"
   ]
  },
  {
   "cell_type": "code",
   "execution_count": 6,
   "id": "3e69ca02-5a3c-485a-949f-d0cd9b4ee990",
   "metadata": {},
   "outputs": [
    {
     "data": {
      "image/png": "[encoded data removed]",
      "text/plain": [
       "<Figure size 432x288 with 1 Axes>"
      ]
     },
     "metadata": {
      "needs_background": "light"
     },
     "output_type": "display_data"
    }
   ],
   "source": [
    "_= plt.scatter(states.Income, states.HSGrad)\n",
    "_ = plt.xlabel(\"Income\")\n",
    "_ = plt.ylabel(\"High School Graduation Rate\")"
   ]
  },
  {
   "cell_type": "markdown",
   "id": "c10a0915-3f51-4f85-b86c-4fb3f9fe38b6",
   "metadata": {},
   "source": [
    "From the scatter plot there seems to be a weak positive correlation betweek Income and Highschool Graduation rate. Thos would mean that the High school gradutation rate seems to be increasing as Income increase. \n",
    "<h3> 1.3 "
   ]
  },
  {
   "cell_type": "code",
   "execution_count": 23,
   "id": "f51f2b45-2d0e-4974-9966-aff76bb64799",
   "metadata": {},
   "outputs": [
    {
     "data": {
      "image/png": "[encoded data removed]",
      "text/plain": [
       "<Figure size 432x288 with 1 Axes>"
      ]
     },
     "metadata": {
      "needs_background": "light"
     },
     "output_type": "display_data"
    }
   ],
   "source": [
    "_ = sns.regplot(y = \"Income\", x = \"HSGrad\",\n",
    "            scatter_kws = {\"color\":\"blue\", \"alpha\":0.3, \"edgecolor\":\"black\"},\n",
    "            line_kws={\"color\":\"red\"},\n",
    "            data=states)"
   ]
  },
  {
   "cell_type": "markdown",
   "id": "26cb9d4e-ab74-4e8d-acc5-f8d47d6f4240",
   "metadata": {},
   "source": [
    "<h3> 1.4 </h3> \n",
    "Comment on the plot: is the line upward or downward sloping? Do you see the dots trending up/down in a similar fashion as the line?\n",
    "\n",
    "The line is upward sloping and most of the points appear to be close to the line except for one or two outliers. \n",
    "\n",
    "<h3> 1.5"
   ]
  },
  {
   "cell_type": "code",
   "execution_count": 12,
   "id": "1426bd15-e760-43f6-a6ff-a283ff17c392",
   "metadata": {},
   "outputs": [],
   "source": [
    "import statsmodels.formula.api as smf"
   ]
  },
  {
   "cell_type": "code",
   "execution_count": 15,
   "id": "64c24cfd-6537-4cbd-9d2e-5981b3da3db4",
   "metadata": {},
   "outputs": [],
   "source": [
    "m = smf.ols(\"Income ~ HSGrad\", data=states).fit()"
   ]
  },
  {
   "cell_type": "code",
   "execution_count": 16,
   "id": "fcd3464d-1637-4cf4-ae67-ecb1deb0e682",
   "metadata": {},
   "outputs": [
    {
     "data": {
      "text/html": [
       "<table class=\"simpletable\">\n",
       "<caption>OLS Regression Results</caption>\n",
       "<tr>\n",
       "  <th>Dep. Variable:</th>         <td>Income</td>      <th>  R-squared:         </th> <td>   0.384</td>\n",
       "</tr>\n",
       "<tr>\n",
       "  <th>Model:</th>                   <td>OLS</td>       <th>  Adj. R-squared:    </th> <td>   0.371</td>\n",
       "</tr>\n",
       "<tr>\n",
       "  <th>Method:</th>             <td>Least Squares</td>  <th>  F-statistic:       </th> <td>   29.96</td>\n",
       "</tr>\n",
       "<tr>\n",
       "  <th>Date:</th>             <td>Thu, 10 Feb 2022</td> <th>  Prob (F-statistic):</th> <td>1.58e-06</td>\n",
       "</tr>\n",
       "<tr>\n",
       "  <th>Time:</th>                 <td>03:26:00</td>     <th>  Log-Likelihood:    </th> <td> -379.35</td>\n",
       "</tr>\n",
       "<tr>\n",
       "  <th>No. Observations:</th>      <td>    50</td>      <th>  AIC:               </th> <td>   762.7</td>\n",
       "</tr>\n",
       "<tr>\n",
       "  <th>Df Residuals:</th>          <td>    48</td>      <th>  BIC:               </th> <td>   766.5</td>\n",
       "</tr>\n",
       "<tr>\n",
       "  <th>Df Model:</th>              <td>     1</td>      <th>                     </th>     <td> </td>   \n",
       "</tr>\n",
       "<tr>\n",
       "  <th>Covariance Type:</th>      <td>nonrobust</td>    <th>                     </th>     <td> </td>   \n",
       "</tr>\n",
       "</table>\n",
       "<table class=\"simpletable\">\n",
       "<tr>\n",
       "      <td></td>         <th>coef</th>     <th>std err</th>      <th>t</th>      <th>P>|t|</th>  <th>[0.025</th>    <th>0.975]</th>  \n",
       "</tr>\n",
       "<tr>\n",
       "  <th>Intercept</th> <td> 1931.1047</td> <td>  462.739</td> <td>    4.173</td> <td> 0.000</td> <td> 1000.705</td> <td> 2861.504</td>\n",
       "</tr>\n",
       "<tr>\n",
       "  <th>HSGrad</th>    <td>   47.1623</td> <td>    8.616</td> <td>    5.474</td> <td> 0.000</td> <td>   29.839</td> <td>   64.486</td>\n",
       "</tr>\n",
       "</table>\n",
       "<table class=\"simpletable\">\n",
       "<tr>\n",
       "  <th>Omnibus:</th>       <td> 0.700</td> <th>  Durbin-Watson:     </th> <td>   2.298</td>\n",
       "</tr>\n",
       "<tr>\n",
       "  <th>Prob(Omnibus):</th> <td> 0.705</td> <th>  Jarque-Bera (JB):  </th> <td>   0.271</td>\n",
       "</tr>\n",
       "<tr>\n",
       "  <th>Skew:</th>          <td> 0.165</td> <th>  Prob(JB):          </th> <td>   0.873</td>\n",
       "</tr>\n",
       "<tr>\n",
       "  <th>Kurtosis:</th>      <td> 3.144</td> <th>  Cond. No.          </th> <td>    361.</td>\n",
       "</tr>\n",
       "</table><br/><br/>Notes:<br/>[1] Standard Errors assume that the covariance matrix of the errors is correctly specified."
      ],
      "text/plain": [
       "<class 'statsmodels.iolib.summary.Summary'>\n",
       "\"\"\"\n",
       "                            OLS Regression Results                            \n",
       "==============================================================================\n",
       "Dep. Variable:                 Income   R-squared:                       0.384\n",
       "Model:                            OLS   Adj. R-squared:                  0.371\n",
       "Method:                 Least Squares   F-statistic:                     29.96\n",
       "Date:                Thu, 10 Feb 2022   Prob (F-statistic):           1.58e-06\n",
       "Time:                        03:26:00   Log-Likelihood:                -379.35\n",
       "No. Observations:                  50   AIC:                             762.7\n",
       "Df Residuals:                      48   BIC:                             766.5\n",
       "Df Model:                           1                                         \n",
       "Covariance Type:            nonrobust                                         \n",
       "==============================================================================\n",
       "                 coef    std err          t      P>|t|      [0.025      0.975]\n",
       "------------------------------------------------------------------------------\n",
       "Intercept   1931.1047    462.739      4.173      0.000    1000.705    2861.504\n",
       "HSGrad        47.1623      8.616      5.474      0.000      29.839      64.486\n",
       "==============================================================================\n",
       "Omnibus:                        0.700   Durbin-Watson:                   2.298\n",
       "Prob(Omnibus):                  0.705   Jarque-Bera (JB):                0.271\n",
       "Skew:                           0.165   Prob(JB):                        0.873\n",
       "Kurtosis:                       3.144   Cond. No.                         361.\n",
       "==============================================================================\n",
       "\n",
       "Notes:\n",
       "[1] Standard Errors assume that the covariance matrix of the errors is correctly specified.\n",
       "\"\"\""
      ]
     },
     "execution_count": 16,
     "metadata": {},
     "output_type": "execute_result"
    }
   ],
   "source": [
    "m.summary()"
   ]
  },
  {
   "cell_type": "markdown",
   "id": "50256abc-166d-4de8-9452-c59943709e76",
   "metadata": {},
   "source": [
    "<h3> 1.6 </h3> \n",
    "Interpret the coefficients (β0 and β1). What do these numbers mean? Are these statistically significant?\n",
    "\n",
    "β0 is the intercept of the regression line. It is the predicted value of Income when HSGrad is equal to 0.\n",
    "β1 is the slope of the regression line.\n",
    "   \n",
    "<h3> 1.7 </h3> \n",
    "If you did this correctly, you see p-value for HSGrad being “0.000”. What does this number mean?\n",
    "\n",
    "A p-value of zero would mean that we can reject the null hypothesis that Mean Income = Mean HSGrad. \n",
    "\n",
    "<h3> 1.8 </h3> \n",
    "Do you get similar results as what you got in PS2? (Hint: you should)\n",
    "\n",
    "I think this matches my analysis in PS2. We can reject that mean Income is the same as mean HSGrad.\n",
    "\n"
   ]
  },
  {
   "cell_type": "markdown",
   "id": "32444fa9-751b-4be6-9c4e-b4fe9b9e7cfb",
   "metadata": {},
   "source": [
    "<h2> 2 Global temperature trends\n",
    "    <h3> 2.1"
   ]
  },
  {
   "cell_type": "code",
   "execution_count": 29,
   "id": "633233ae-f2fc-4cd2-ab91-a2306e4e6cfc",
   "metadata": {},
   "outputs": [
    {
     "data": {
      "text/html": [
       "<div>\n",
       "<style scoped>\n",
       "    .dataframe tbody tr th:only-of-type {\n",
       "        vertical-align: middle;\n",
       "    }\n",
       "\n",
       "    .dataframe tbody tr th {\n",
       "        vertical-align: top;\n",
       "    }\n",
       "\n",
       "    .dataframe thead th {\n",
       "        text-align: right;\n",
       "    }\n",
       "</style>\n",
       "<table border=\"1\" class=\"dataframe\">\n",
       "  <thead>\n",
       "    <tr style=\"text-align: right;\">\n",
       "      <th></th>\n",
       "      <th>year</th>\n",
       "      <th>month</th>\n",
       "      <th>globe</th>\n",
       "      <th>globe_land</th>\n",
       "      <th>globe_ocean</th>\n",
       "      <th>nh</th>\n",
       "      <th>nh_land</th>\n",
       "      <th>nh_ocean</th>\n",
       "      <th>sh</th>\n",
       "      <th>sh_land</th>\n",
       "      <th>...</th>\n",
       "      <th>soext_ocean</th>\n",
       "      <th>nopol</th>\n",
       "      <th>nopol_land</th>\n",
       "      <th>nopol_ocean</th>\n",
       "      <th>sopol</th>\n",
       "      <th>sopol_land</th>\n",
       "      <th>sopol_ocean</th>\n",
       "      <th>usa48</th>\n",
       "      <th>usa49</th>\n",
       "      <th>aust</th>\n",
       "    </tr>\n",
       "  </thead>\n",
       "  <tbody>\n",
       "    <tr>\n",
       "      <th>0</th>\n",
       "      <td>1978</td>\n",
       "      <td>12</td>\n",
       "      <td>-0.48</td>\n",
       "      <td>-0.51</td>\n",
       "      <td>-0.47</td>\n",
       "      <td>-0.44</td>\n",
       "      <td>-0.46</td>\n",
       "      <td>-0.42</td>\n",
       "      <td>-0.52</td>\n",
       "      <td>-0.62</td>\n",
       "      <td>...</td>\n",
       "      <td>-0.45</td>\n",
       "      <td>-0.39</td>\n",
       "      <td>-0.68</td>\n",
       "      <td>-0.06</td>\n",
       "      <td>-0.45</td>\n",
       "      <td>-0.38</td>\n",
       "      <td>-0.49</td>\n",
       "      <td>-1.29</td>\n",
       "      <td>-1.15</td>\n",
       "      <td>-1.29</td>\n",
       "    </tr>\n",
       "    <tr>\n",
       "      <th>1</th>\n",
       "      <td>1979</td>\n",
       "      <td>1</td>\n",
       "      <td>-0.47</td>\n",
       "      <td>-0.64</td>\n",
       "      <td>-0.41</td>\n",
       "      <td>-0.64</td>\n",
       "      <td>-0.86</td>\n",
       "      <td>-0.50</td>\n",
       "      <td>-0.31</td>\n",
       "      <td>-0.13</td>\n",
       "      <td>...</td>\n",
       "      <td>-0.29</td>\n",
       "      <td>-0.46</td>\n",
       "      <td>-0.95</td>\n",
       "      <td>0.10</td>\n",
       "      <td>-0.16</td>\n",
       "      <td>-0.15</td>\n",
       "      <td>-0.16</td>\n",
       "      <td>-3.22</td>\n",
       "      <td>-2.42</td>\n",
       "      <td>0.92</td>\n",
       "    </tr>\n",
       "    <tr>\n",
       "      <th>2</th>\n",
       "      <td>1979</td>\n",
       "      <td>2</td>\n",
       "      <td>-0.43</td>\n",
       "      <td>-0.56</td>\n",
       "      <td>-0.39</td>\n",
       "      <td>-0.47</td>\n",
       "      <td>-0.57</td>\n",
       "      <td>-0.41</td>\n",
       "      <td>-0.39</td>\n",
       "      <td>-0.53</td>\n",
       "      <td>...</td>\n",
       "      <td>-0.36</td>\n",
       "      <td>-2.00</td>\n",
       "      <td>-2.30</td>\n",
       "      <td>-1.66</td>\n",
       "      <td>-0.80</td>\n",
       "      <td>-1.25</td>\n",
       "      <td>-0.58</td>\n",
       "      <td>-1.76</td>\n",
       "      <td>-1.84</td>\n",
       "      <td>-0.30</td>\n",
       "    </tr>\n",
       "  </tbody>\n",
       "</table>\n",
       "<p>3 rows × 29 columns</p>\n",
       "</div>"
      ],
      "text/plain": [
       "   year  month  globe  globe_land  globe_ocean    nh  nh_land  nh_ocean    sh  \\\n",
       "0  1978     12  -0.48       -0.51        -0.47 -0.44    -0.46     -0.42 -0.52   \n",
       "1  1979      1  -0.47       -0.64        -0.41 -0.64    -0.86     -0.50 -0.31   \n",
       "2  1979      2  -0.43       -0.56        -0.39 -0.47    -0.57     -0.41 -0.39   \n",
       "\n",
       "   sh_land  ...  soext_ocean  nopol  nopol_land  nopol_ocean  sopol  \\\n",
       "0    -0.62  ...        -0.45  -0.39       -0.68        -0.06  -0.45   \n",
       "1    -0.13  ...        -0.29  -0.46       -0.95         0.10  -0.16   \n",
       "2    -0.53  ...        -0.36  -2.00       -2.30        -1.66  -0.80   \n",
       "\n",
       "   sopol_land  sopol_ocean  usa48  usa49  aust  \n",
       "0       -0.38        -0.49  -1.29  -1.15 -1.29  \n",
       "1       -0.15        -0.16  -3.22  -2.42  0.92  \n",
       "2       -1.25        -0.58  -1.76  -1.84 -0.30  \n",
       "\n",
       "[3 rows x 29 columns]"
      ]
     },
     "execution_count": 29,
     "metadata": {},
     "output_type": "execute_result"
    }
   ],
   "source": [
    "temp = pd.read_csv(\"data /UAH-lower-troposphere-wide.csv\", sep =\"\\t\")\n",
    "temp.head(3)"
   ]
  },
  {
   "cell_type": "code",
   "execution_count": 30,
   "id": "9e6d16fe-071b-43cc-a078-b542f5117a37",
   "metadata": {},
   "outputs": [
    {
     "data": {
      "text/plain": [
       "(517, 29)"
      ]
     },
     "execution_count": 30,
     "metadata": {},
     "output_type": "execute_result"
    }
   ],
   "source": [
    "temp.shape"
   ]
  },
  {
   "cell_type": "markdown",
   "id": "5035e90f-69a3-494b-a19b-66211235bc08",
   "metadata": {},
   "source": [
    "<h3> 1.2"
   ]
  },
  {
   "cell_type": "code",
   "execution_count": 33,
   "id": "a75d995d-d13a-4f9e-bfce-b4f8e446fe3a",
   "metadata": {},
   "outputs": [],
   "source": [
    "temp[\"time\"] = temp.year + (temp.month)/12"
   ]
  },
  {
   "cell_type": "markdown",
   "id": "c638a066-f95a-4d18-9782-9f57df252ba2",
   "metadata": {},
   "source": [
    "<h3> 1.3"
   ]
  },
  {
   "cell_type": "code",
   "execution_count": 35,
   "id": "42ebcc7e-fcd8-443d-91ea-c57ee5e78da8",
   "metadata": {},
   "outputs": [
    {
     "data": {
      "image/png": "[encoded data removed]",
      "text/plain": [
       "<Figure size 432x288 with 1 Axes>"
      ]
     },
     "metadata": {
      "needs_background": "light"
     },
     "output_type": "display_data"
    }
   ],
   "source": [
    "_ = plt.scatter(temp.time, temp.globe)"
   ]
  },
  {
   "cell_type": "code",
   "execution_count": 25,
   "id": "160dc777-4a80-4796-997d-8609a8450b53",
   "metadata": {},
   "outputs": [
    {
     "data": {
      "image/png": "[encoded data removed]",
      "text/plain": [
       "<Figure size 432x288 with 1 Axes>"
      ]
     },
     "metadata": {
      "needs_background": "light"
     },
     "output_type": "display_data"
    }
   ],
   "source": [
    "_ = sns.regplot(y = \"globe\", x = \"time\",\n",
    "            scatter_kws = {\"color\":\"blue\", \"alpha\":0.3, \"edgecolor\":\"black\"},\n",
    "            line_kws={\"color\":\"red\"},\n",
    "            data=temp)"
   ]
  },
  {
   "cell_type": "markdown",
   "id": "59027669-9b86-45c8-83ca-f47777f19119",
   "metadata": {},
   "source": [
    "<h3> 1.4"
   ]
  },
  {
   "cell_type": "code",
   "execution_count": 21,
   "id": "281ef6d1-75df-4d7f-8370-442e520795c3",
   "metadata": {},
   "outputs": [],
   "source": [
    "m1 = smf.ols(\"globe ~ time\", data=temp).fit()"
   ]
  },
  {
   "cell_type": "code",
   "execution_count": 22,
   "id": "a32b387a-8a2b-4b08-b332-d9fbd9759cef",
   "metadata": {},
   "outputs": [
    {
     "data": {
      "text/html": [
       "<table class=\"simpletable\">\n",
       "<caption>OLS Regression Results</caption>\n",
       "<tr>\n",
       "  <th>Dep. Variable:</th>          <td>globe</td>      <th>  R-squared:         </th> <td>   0.468</td>\n",
       "</tr>\n",
       "<tr>\n",
       "  <th>Model:</th>                   <td>OLS</td>       <th>  Adj. R-squared:    </th> <td>   0.467</td>\n",
       "</tr>\n",
       "<tr>\n",
       "  <th>Method:</th>             <td>Least Squares</td>  <th>  F-statistic:       </th> <td>   453.3</td>\n",
       "</tr>\n",
       "<tr>\n",
       "  <th>Date:</th>             <td>Thu, 10 Feb 2022</td> <th>  Prob (F-statistic):</th> <td>1.27e-72</td>\n",
       "</tr>\n",
       "<tr>\n",
       "  <th>Time:</th>                 <td>04:12:06</td>     <th>  Log-Likelihood:    </th> <td>  155.45</td>\n",
       "</tr>\n",
       "<tr>\n",
       "  <th>No. Observations:</th>      <td>   517</td>      <th>  AIC:               </th> <td>  -306.9</td>\n",
       "</tr>\n",
       "<tr>\n",
       "  <th>Df Residuals:</th>          <td>   515</td>      <th>  BIC:               </th> <td>  -298.4</td>\n",
       "</tr>\n",
       "<tr>\n",
       "  <th>Df Model:</th>              <td>     1</td>      <th>                     </th>     <td> </td>   \n",
       "</tr>\n",
       "<tr>\n",
       "  <th>Covariance Type:</th>      <td>nonrobust</td>    <th>                     </th>     <td> </td>   \n",
       "</tr>\n",
       "</table>\n",
       "<table class=\"simpletable\">\n",
       "<tr>\n",
       "      <td></td>         <th>coef</th>     <th>std err</th>      <th>t</th>      <th>P>|t|</th>  <th>[0.025</th>    <th>0.975]</th>  \n",
       "</tr>\n",
       "<tr>\n",
       "  <th>Intercept</th> <td>  -27.1065</td> <td>    1.270</td> <td>  -21.348</td> <td> 0.000</td> <td>  -29.601</td> <td>  -24.612</td>\n",
       "</tr>\n",
       "<tr>\n",
       "  <th>time</th>      <td>    0.0135</td> <td>    0.001</td> <td>   21.291</td> <td> 0.000</td> <td>    0.012</td> <td>    0.015</td>\n",
       "</tr>\n",
       "</table>\n",
       "<table class=\"simpletable\">\n",
       "<tr>\n",
       "  <th>Omnibus:</th>       <td>23.466</td> <th>  Durbin-Watson:     </th> <td>   0.483</td>\n",
       "</tr>\n",
       "<tr>\n",
       "  <th>Prob(Omnibus):</th> <td> 0.000</td> <th>  Jarque-Bera (JB):  </th> <td>  30.265</td>\n",
       "</tr>\n",
       "<tr>\n",
       "  <th>Skew:</th>          <td> 0.416</td> <th>  Prob(JB):          </th> <td>2.68e-07</td>\n",
       "</tr>\n",
       "<tr>\n",
       "  <th>Kurtosis:</th>      <td> 3.845</td> <th>  Cond. No.          </th> <td>3.22e+05</td>\n",
       "</tr>\n",
       "</table><br/><br/>Notes:<br/>[1] Standard Errors assume that the covariance matrix of the errors is correctly specified.<br/>[2] The condition number is large, 3.22e+05. This might indicate that there are<br/>strong multicollinearity or other numerical problems."
      ],
      "text/plain": [
       "<class 'statsmodels.iolib.summary.Summary'>\n",
       "\"\"\"\n",
       "                            OLS Regression Results                            \n",
       "==============================================================================\n",
       "Dep. Variable:                  globe   R-squared:                       0.468\n",
       "Model:                            OLS   Adj. R-squared:                  0.467\n",
       "Method:                 Least Squares   F-statistic:                     453.3\n",
       "Date:                Thu, 10 Feb 2022   Prob (F-statistic):           1.27e-72\n",
       "Time:                        04:12:06   Log-Likelihood:                 155.45\n",
       "No. Observations:                 517   AIC:                            -306.9\n",
       "Df Residuals:                     515   BIC:                            -298.4\n",
       "Df Model:                           1                                         \n",
       "Covariance Type:            nonrobust                                         \n",
       "==============================================================================\n",
       "                 coef    std err          t      P>|t|      [0.025      0.975]\n",
       "------------------------------------------------------------------------------\n",
       "Intercept    -27.1065      1.270    -21.348      0.000     -29.601     -24.612\n",
       "time           0.0135      0.001     21.291      0.000       0.012       0.015\n",
       "==============================================================================\n",
       "Omnibus:                       23.466   Durbin-Watson:                   0.483\n",
       "Prob(Omnibus):                  0.000   Jarque-Bera (JB):               30.265\n",
       "Skew:                           0.416   Prob(JB):                     2.68e-07\n",
       "Kurtosis:                       3.845   Cond. No.                     3.22e+05\n",
       "==============================================================================\n",
       "\n",
       "Notes:\n",
       "[1] Standard Errors assume that the covariance matrix of the errors is correctly specified.\n",
       "[2] The condition number is large, 3.22e+05. This might indicate that there are\n",
       "strong multicollinearity or other numerical problems.\n",
       "\"\"\""
      ]
     },
     "execution_count": 22,
     "metadata": {},
     "output_type": "execute_result"
    }
   ],
   "source": [
    "m1.summary()"
   ]
  },
  {
   "cell_type": "markdown",
   "id": "24f25382-f7bb-456a-a7de-5dee674bcdc0",
   "metadata": {},
   "source": [
    "<h3> 1.5 </h3> \n",
    "If you did this correctly then your coef for “time” should be 0.0135. What does this number mean? Is it statistically significant?\n",
    "\n",
    "This number means that the slope of the regression line. This means that for every 1 year increase in time there will be a 0.0135 unit increase in temperature. \n",
    "\n",
    "\n",
    "<h3> 1.6 </h3> \n",
    "What does intercept mean here?\n",
    "\n",
    "The intercept here is -27.1065. This means that when the time is 0 the temperature was -27.1065.\n",
    "\n",
    "<h3> 1.7 </h3> \n",
    "Check out the published data. You may read the “GTR” (global temperature report) from University\n",
    "of Alabama, Huntsville, or you may look for other sources. Did you get a similar trend as published?\n",
    "\n",
    "The graph from the data looks somewhat similar to the graph created in this lab. The regression line of the graph in the paper looks flat however, my graph is slightly upward sloping. However the dots move in the same pattern as the dots in the research paper. I believe this might indic"
   ]
  }
 ],
 "metadata": {
  "kernelspec": {
   "display_name": "Python 3 (ipykernel)",
   "language": "python",
   "name": "python3"
  },
  "language_info": {
   "codemirror_mode": {
    "name": "ipython",
    "version": 3
   },
   "file_extension": ".py",
   "mimetype": "text/x-python",
   "name": "python",
   "nbconvert_exporter": "python",
   "pygments_lexer": "ipython3",
   "version": "3.9.7"
  }
 },
 "nbformat": 4,
 "nbformat_minor": 5
}
