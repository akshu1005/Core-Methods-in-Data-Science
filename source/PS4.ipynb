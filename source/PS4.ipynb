{
 "cells": [
  {
   "cell_type": "markdown",
   "id": "41f9d33b-b3a3-4c2e-bfe1-8e42bb6218ae",
   "metadata": {},
   "source": [
    "<h1> Problem set 4 </h1> \n",
    "<h3>Akshita Gundavarapu </h3> \n",
    "\n",
    "<h2> 1 Simulations </h2> \n",
    "<h3> 1.1 "
   ]
  },
  {
   "cell_type": "code",
   "execution_count": 2,
   "id": "655d438f-cfdc-4a3c-b6a9-e140b4e43a28",
   "metadata": {},
   "outputs": [],
   "source": [
    "import numpy as np \n",
    "import pandas as pd\n",
    "import matplotlib.pyplot as plt"
   ]
  },
  {
   "cell_type": "code",
   "execution_count": 3,
   "id": "28886f07-417f-4037-bfad-50a2a4221a86",
   "metadata": {},
   "outputs": [
    {
     "data": {
      "text/html": [
       "<div>\n",
       "<style scoped>\n",
       "    .dataframe tbody tr th:only-of-type {\n",
       "        vertical-align: middle;\n",
       "    }\n",
       "\n",
       "    .dataframe tbody tr th {\n",
       "        vertical-align: top;\n",
       "    }\n",
       "\n",
       "    .dataframe thead th {\n",
       "        text-align: right;\n",
       "    }\n",
       "</style>\n",
       "<table border=\"1\" class=\"dataframe\">\n",
       "  <thead>\n",
       "    <tr style=\"text-align: right;\">\n",
       "      <th></th>\n",
       "      <th>Serial No.</th>\n",
       "      <th>GRE Score</th>\n",
       "      <th>TOEFL Score</th>\n",
       "      <th>University Rating</th>\n",
       "      <th>SOP</th>\n",
       "      <th>LOR</th>\n",
       "      <th>CGPA</th>\n",
       "      <th>Research</th>\n",
       "      <th>Chance of Admit</th>\n",
       "    </tr>\n",
       "  </thead>\n",
       "  <tbody>\n",
       "    <tr>\n",
       "      <th>0</th>\n",
       "      <td>1</td>\n",
       "      <td>337</td>\n",
       "      <td>118</td>\n",
       "      <td>4</td>\n",
       "      <td>4.5</td>\n",
       "      <td>4.5</td>\n",
       "      <td>9.65</td>\n",
       "      <td>1</td>\n",
       "      <td>0.92</td>\n",
       "    </tr>\n",
       "    <tr>\n",
       "      <th>1</th>\n",
       "      <td>2</td>\n",
       "      <td>324</td>\n",
       "      <td>107</td>\n",
       "      <td>4</td>\n",
       "      <td>4.0</td>\n",
       "      <td>4.5</td>\n",
       "      <td>8.87</td>\n",
       "      <td>1</td>\n",
       "      <td>0.76</td>\n",
       "    </tr>\n",
       "    <tr>\n",
       "      <th>2</th>\n",
       "      <td>3</td>\n",
       "      <td>316</td>\n",
       "      <td>104</td>\n",
       "      <td>3</td>\n",
       "      <td>3.0</td>\n",
       "      <td>3.5</td>\n",
       "      <td>8.00</td>\n",
       "      <td>1</td>\n",
       "      <td>0.72</td>\n",
       "    </tr>\n",
       "  </tbody>\n",
       "</table>\n",
       "</div>"
      ],
      "text/plain": [
       "   Serial No.  GRE Score  TOEFL Score  University Rating  SOP  LOR   CGPA  \\\n",
       "0           1        337          118                  4  4.5   4.5  9.65   \n",
       "1           2        324          107                  4  4.0   4.5  8.87   \n",
       "2           3        316          104                  3  3.0   3.5  8.00   \n",
       "\n",
       "   Research  Chance of Admit   \n",
       "0         1              0.92  \n",
       "1         1              0.76  \n",
       "2         1              0.72  "
      ]
     },
     "execution_count": 3,
     "metadata": {},
     "output_type": "execute_result"
    }
   ],
   "source": [
    "c =  pd.read_csv(\"data /college-admissions.csv.bz2\", sep =\",\")\n",
    "c.head(3)"
   ]
  },
  {
   "cell_type": "code",
   "execution_count": 4,
   "id": "e7cfbf17-dd57-46c8-b867-1bdf8c87c8cb",
   "metadata": {},
   "outputs": [],
   "source": [
    "c = c[['Chance of Admit ', 'Research']]"
   ]
  },
  {
   "cell_type": "code",
   "execution_count": 5,
   "id": "86d60537-4b2d-47e3-b93e-92bad2a579ea",
   "metadata": {},
   "outputs": [],
   "source": [
    "c = c.rename(columns = {'Chance of Admit ':'Chance'})"
   ]
  },
  {
   "cell_type": "code",
   "execution_count": 6,
   "id": "a28cb1f8-c258-43cd-b8cd-646dd0c1f8a9",
   "metadata": {},
   "outputs": [
    {
     "data": {
      "text/html": [
       "<div>\n",
       "<style scoped>\n",
       "    .dataframe tbody tr th:only-of-type {\n",
       "        vertical-align: middle;\n",
       "    }\n",
       "\n",
       "    .dataframe tbody tr th {\n",
       "        vertical-align: top;\n",
       "    }\n",
       "\n",
       "    .dataframe thead th {\n",
       "        text-align: right;\n",
       "    }\n",
       "</style>\n",
       "<table border=\"1\" class=\"dataframe\">\n",
       "  <thead>\n",
       "    <tr style=\"text-align: right;\">\n",
       "      <th></th>\n",
       "      <th>Chance</th>\n",
       "      <th>Research</th>\n",
       "    </tr>\n",
       "  </thead>\n",
       "  <tbody>\n",
       "    <tr>\n",
       "      <th>0</th>\n",
       "      <td>0.92</td>\n",
       "      <td>1</td>\n",
       "    </tr>\n",
       "    <tr>\n",
       "      <th>1</th>\n",
       "      <td>0.76</td>\n",
       "      <td>1</td>\n",
       "    </tr>\n",
       "    <tr>\n",
       "      <th>2</th>\n",
       "      <td>0.72</td>\n",
       "      <td>1</td>\n",
       "    </tr>\n",
       "  </tbody>\n",
       "</table>\n",
       "</div>"
      ],
      "text/plain": [
       "   Chance  Research\n",
       "0    0.92         1\n",
       "1    0.76         1\n",
       "2    0.72         1"
      ]
     },
     "execution_count": 6,
     "metadata": {},
     "output_type": "execute_result"
    }
   ],
   "source": [
    "c.head(3)"
   ]
  },
  {
   "cell_type": "code",
   "execution_count": 7,
   "id": "65e3652b-f4c6-4aa7-af32-cbbcd69b1059",
   "metadata": {},
   "outputs": [
    {
     "data": {
      "text/plain": [
       "(400, 2)"
      ]
     },
     "execution_count": 7,
     "metadata": {},
     "output_type": "execute_result"
    }
   ],
   "source": [
    "c.shape"
   ]
  },
  {
   "cell_type": "code",
   "execution_count": 8,
   "id": "40c2b96b-b611-4064-9540-fe8fad4ba031",
   "metadata": {},
   "outputs": [
    {
     "data": {
      "text/plain": [
       "(0, 1)"
      ]
     },
     "execution_count": 8,
     "metadata": {},
     "output_type": "execute_result"
    }
   ],
   "source": [
    "c.Research.min(), c.Research.max()"
   ]
  },
  {
   "cell_type": "code",
   "execution_count": 9,
   "id": "e4b0742d-2fe5-424e-be20-bda36ff52257",
   "metadata": {},
   "outputs": [
    {
     "data": {
      "text/plain": [
       "(0.34, 0.97)"
      ]
     },
     "execution_count": 9,
     "metadata": {},
     "output_type": "execute_result"
    }
   ],
   "source": [
    "c.Chance.min(), c.Chance.max()"
   ]
  },
  {
   "cell_type": "code",
   "execution_count": 10,
   "id": "967496ed-a2b6-43c0-8e51-8e2786a2cd3f",
   "metadata": {},
   "outputs": [
    {
     "data": {
      "text/plain": [
       "(400, 2)"
      ]
     },
     "execution_count": 10,
     "metadata": {},
     "output_type": "execute_result"
    }
   ],
   "source": [
    "c.dropna().shape"
   ]
  },
  {
   "cell_type": "markdown",
   "id": "8d18b844-9124-4736-8607-e6a2c828d778",
   "metadata": {},
   "source": [
    "<h3> 1.2"
   ]
  },
  {
   "cell_type": "code",
   "execution_count": 29,
   "id": "4c7647f3-3708-4dc0-9a67-d5481d796c22",
   "metadata": {},
   "outputs": [
    {
     "data": {
      "text/plain": [
       "(0.7959817351598172, 0.8, 0.12305111802221343)"
      ]
     },
     "execution_count": 29,
     "metadata": {},
     "output_type": "execute_result"
    }
   ],
   "source": [
    "research = c.loc[c[\"Research\"] > 0, \"Chance\"]\n",
    "research.mean(), research.median(), research.std()"
   ]
  },
  {
   "cell_type": "code",
   "execution_count": 12,
   "id": "f10b6bec-6d16-4186-a92a-47d9292c1ac8",
   "metadata": {},
   "outputs": [
    {
     "data": {
      "text/plain": [
       "0.61"
      ]
     },
     "execution_count": 12,
     "metadata": {},
     "output_type": "execute_result"
    }
   ],
   "source": [
    "research.max() - research.min()"
   ]
  },
  {
   "cell_type": "code",
   "execution_count": 13,
   "id": "12d4893c-174b-4887-8d5d-3263e69ce618",
   "metadata": {},
   "outputs": [
    {
     "data": {
      "text/plain": [
       "(0.6376795580110497, 0.65, 0.11378404043441828)"
      ]
     },
     "execution_count": 13,
     "metadata": {},
     "output_type": "execute_result"
    }
   ],
   "source": [
    "no_research = c.loc[c[\"Research\"] == 0, \"Chance\"]\n",
    "no_research.mean(), no_research.median(), no_research.std()"
   ]
  },
  {
   "cell_type": "code",
   "execution_count": 14,
   "id": "1eb5462a-9af5-45c1-96e9-37768fa1afae",
   "metadata": {},
   "outputs": [
    {
     "data": {
      "text/plain": [
       "0.55"
      ]
     },
     "execution_count": 14,
     "metadata": {},
     "output_type": "execute_result"
    }
   ],
   "source": [
    "no_research.max() - no_research.min()"
   ]
  },
  {
   "cell_type": "markdown",
   "id": "5f1359df-5e5e-47be-84a4-5a438806ac85",
   "metadata": {},
   "source": [
    "According to these figures, which students are more likely to be admitted–researchers or non-researchers?\n",
    "\n",
    "According to these figures it seems like the researcher students are more liklely to be admitted.\n",
    "\n",
    "\n",
    "<h3> 1.3 </h3> \n"
   ]
  },
  {
   "cell_type": "code",
   "execution_count": 15,
   "id": "fd1c57d1-7507-4fda-890c-f6ff76eb7090",
   "metadata": {},
   "outputs": [
    {
     "data": {
      "image/png": "[encoded data removed]",
      "text/plain": [
       "<Figure size 432x288 with 1 Axes>"
      ]
     },
     "metadata": {
      "needs_background": "light"
     },
     "output_type": "display_data"
    }
   ],
   "source": [
    "_ = plt.hist(research)"
   ]
  },
  {
   "cell_type": "code",
   "execution_count": 16,
   "id": "4b3eb9ae-25c9-45f2-9688-9b8a8191eaa7",
   "metadata": {},
   "outputs": [
    {
     "data": {
      "image/png": "[encoded data removed]",
      "text/plain": [
       "<Figure size 432x288 with 1 Axes>"
      ]
     },
     "metadata": {
      "needs_background": "light"
     },
     "output_type": "display_data"
    }
   ],
   "source": [
    "_ = plt.hist(no_research)"
   ]
  },
  {
   "cell_type": "markdown",
   "id": "1335838e-1def-4cfc-bbdc-b3ad22347399",
   "metadata": {},
   "source": [
    "Comment its shape. Do you think the chances are normally distributed?\n",
    "\n",
    "The chances for non-researchers getting admitted seems normally distributed. However the distribution for the chances of researchers getting admitted looks left skewed.\n",
    "<h3> 1.4 </h3>"
   ]
  },
  {
   "cell_type": "code",
   "execution_count": 17,
   "id": "8de0de71-fd00-44b6-9af5-967b0acc7203",
   "metadata": {},
   "outputs": [
    {
     "data": {
      "text/plain": [
       "0.1583021771487675"
      ]
     },
     "execution_count": 17,
     "metadata": {},
     "output_type": "execute_result"
    }
   ],
   "source": [
    "mean = research.mean()- no_research.mean()\n",
    "mean"
   ]
  },
  {
   "cell_type": "markdown",
   "id": "f3f256d0-695d-4d0f-b5fb-70e7fbfd393a",
   "metadata": {},
   "source": [
    "<h3> 1.5 </h3> \n",
    "H0 again: researchers and non-researchers have similar admission chances (in average).\n",
    "\n"
   ]
  },
  {
   "cell_type": "code",
   "execution_count": 18,
   "id": "e5311ae2-7843-456f-9d06-c58198b4cf33",
   "metadata": {},
   "outputs": [],
   "source": [
    "mu = c.Chance.mean()\n",
    "sigma = c.Chance.std()"
   ]
  },
  {
   "cell_type": "markdown",
   "id": "567c02a2-a7ae-4d95-a75f-6f48ea219bae",
   "metadata": {},
   "source": [
    "<h3> 1.6 </h3> "
   ]
  },
  {
   "cell_type": "code",
   "execution_count": 22,
   "id": "e4e1db15-5a30-4296-a6eb-517521341a5d",
   "metadata": {},
   "outputs": [],
   "source": [
    "research_fake = np.random.normal(mu, sigma, size = 1000)"
   ]
  },
  {
   "cell_type": "code",
   "execution_count": 23,
   "id": "be7448ac-f1a0-463a-ac13-fa2b79f76645",
   "metadata": {},
   "outputs": [],
   "source": [
    "no_research_fake = np.random.normal(mu, sigma, size = 1000)"
   ]
  },
  {
   "cell_type": "code",
   "execution_count": 24,
   "id": "0c5f74de-5233-40f6-8915-88fcafca70f2",
   "metadata": {},
   "outputs": [
    {
     "data": {
      "text/plain": [
       "-0.013193049479884644"
      ]
     },
     "execution_count": 24,
     "metadata": {},
     "output_type": "execute_result"
    }
   ],
   "source": [
    "research_fake.mean() - no_research_fake.mean()"
   ]
  },
  {
   "cell_type": "markdown",
   "id": "6e4186a3-e014-4c4e-830e-1b606daa908a",
   "metadata": {},
   "source": [
    "What is the difference in the mean admission chances of the fake researchers and fake non- researchers? Compare the result with the real difference you found above.\n",
    "\n",
    "The fake difference (-0.0009) is lower than the difference calculated from the data (0.158). The fake difference also seems closer to zero than the difference calculated from the data. \n",
    "\n",
    "<h3> 1.7 </h3> \n",
    "\n",
    "Why do we use the same mean μ0 for both fake researchers and fake non-researchers?\n",
    "\n",
    "We want to see if on average researchers and non-researchers have similar admission chances. To keep this Hypothesis consistent, we must use the same value of mu for generating both data.\n",
    "\n",
    "<h3> 1.8 </h3> \n"
   ]
  },
  {
   "cell_type": "code",
   "execution_count": 25,
   "id": "64581991-84d8-4226-9579-3e1e484c3126",
   "metadata": {},
   "outputs": [],
   "source": [
    "R = 1000\n",
    "diff = []\n",
    "for i in range(1, R):\n",
    "    research_fake = np.random.normal(mu, sigma, size = 1000)\n",
    "    no_research_fake = np.random.normal(mu, sigma, size = 1000)\n",
    "    diff.append(research_fake.mean() - no_research_fake.mean())"
   ]
  },
  {
   "cell_type": "markdown",
   "id": "ec16e313-07e5-4f5e-9419-c3c16de5d741",
   "metadata": {},
   "source": [
    "<h3> 1.9 </h3> "
   ]
  },
  {
   "cell_type": "code",
   "execution_count": 26,
   "id": "2ec2c719-055d-425d-98f0-96d5d9c372ec",
   "metadata": {},
   "outputs": [
    {
     "data": {
      "text/plain": [
       "0.00022202941504467476"
      ]
     },
     "execution_count": 26,
     "metadata": {},
     "output_type": "execute_result"
    }
   ],
   "source": [
    "np.mean(diff)"
   ]
  },
  {
   "cell_type": "markdown",
   "id": "f6c09425-22bf-4ce8-bd9d-6df2d076589c",
   "metadata": {},
   "source": [
    "Explain why do you get this result.\n",
    "\n",
    "We get a result close to zero because according to our hypothesis mean of researcher chances and mean of non-researche chances should be equal.\n",
    "\n",
    "<h3> 1.10"
   ]
  },
  {
   "cell_type": "code",
   "execution_count": 27,
   "id": "4198dfcf-1759-4164-ab86-084344d03af6",
   "metadata": {},
   "outputs": [
    {
     "data": {
      "text/plain": [
       "0.020789087596007838"
      ]
     },
     "execution_count": 27,
     "metadata": {},
     "output_type": "execute_result"
    }
   ],
   "source": [
    "np.max(np.abs(diff))"
   ]
  },
  {
   "cell_type": "markdown",
   "id": "ff4e514d-a89f-400d-bda0-b8206affe583",
   "metadata": {},
   "source": [
    "<h3> 1.11 </h3> "
   ]
  },
  {
   "cell_type": "code",
   "execution_count": 28,
   "id": "83e55732-2e2f-440a-8659-b844bf1f56ba",
   "metadata": {},
   "outputs": [
    {
     "data": {
      "text/plain": [
       "(-0.013113381395690649, 0.012954406048072008)"
      ]
     },
     "execution_count": 28,
     "metadata": {},
     "output_type": "execute_result"
    }
   ],
   "source": [
    "np.percentile(diff, 2.5), np.percentile(diff, 97.5)"
   ]
  },
  {
   "cell_type": "markdown",
   "id": "f61c7c2d-b7c9-4842-be6d-03c6aca65bf0",
   "metadata": {},
   "source": [
    "<h3> 1.12 </h3> \n",
    "Finally, based on the simulations, what is your conclusion: is the observed difference 0.158 just a random fluke, or do students with research experience \n",
    "have better admission chances?\n",
    "\n",
    "0.158 does not fall under the confidence interval. So with 95% confidence we can reject the null hypothesis that the mean chance of admission of researchers is equal to the mean chance of admission of non-researchers.\n",
    "<h2> 2 Now repeat the above with t-test </h2> \n",
    "<h3> 2.1"
   ]
  },
  {
   "cell_type": "code",
   "execution_count": 30,
   "id": "876d4d2d-67bb-433c-b28c-92017a3ddbee",
   "metadata": {},
   "outputs": [],
   "source": [
    "s1 = research.std()\n",
    "s2 = no_research.std()\n",
    "n1 = research.size\n",
    "n2 = no_research.size"
   ]
  },
  {
   "cell_type": "code",
   "execution_count": 31,
   "id": "e5304d71-0d31-4ccd-b849-2487484ef997",
   "metadata": {},
   "outputs": [],
   "source": [
    "se = np.sqrt((s1**2/n1) + (s2**2/n2))"
   ]
  },
  {
   "cell_type": "code",
   "execution_count": 32,
   "id": "d87f883e-7677-4c04-9137-5a7603f22137",
   "metadata": {},
   "outputs": [
    {
     "data": {
      "text/plain": [
       "0.011860394139180394"
      ]
     },
     "execution_count": 32,
     "metadata": {},
     "output_type": "execute_result"
    }
   ],
   "source": [
    "se"
   ]
  },
  {
   "cell_type": "markdown",
   "id": "18ae149c-592d-4910-be35-a7d00ef0dd1b",
   "metadata": {},
   "source": [
    "<h3> 2.2 </h3> \n",
    "\n",
    "μ ± tcr ·SE"
   ]
  },
  {
   "cell_type": "code",
   "execution_count": 33,
   "id": "25d07a4e-a5f2-426e-8ee5-da48b3a9b2c3",
   "metadata": {},
   "outputs": [
    {
     "data": {
      "text/plain": [
       "179"
      ]
     },
     "execution_count": 33,
     "metadata": {},
     "output_type": "execute_result"
    }
   ],
   "source": [
    "df = min(n1 - 1, n2 -2)\n",
    "df"
   ]
  },
  {
   "cell_type": "code",
   "execution_count": 34,
   "id": "8eb0f3c6-312a-4ad0-a417-6b71e871892c",
   "metadata": {},
   "outputs": [],
   "source": [
    "tcr = 1.985\n"
   ]
  },
  {
   "cell_type": "code",
   "execution_count": 35,
   "id": "3cc1b0fd-de78-4336-a6d7-dd071b6721a8",
   "metadata": {},
   "outputs": [
    {
     "data": {
      "text/plain": [
       "(0.1347592947824944, 0.18184505951504057)"
      ]
     },
     "execution_count": 35,
     "metadata": {},
     "output_type": "execute_result"
    }
   ],
   "source": [
    "mean - (tcr*se), mean + (tcr*se)"
   ]
  },
  {
   "cell_type": "markdown",
   "id": "fb8cc9b9-8dc1-44de-b82c-bfc6ea83a5a6",
   "metadata": {},
   "source": [
    "<h3> 2.3 </h3> \n",
    "What will you conclude based on CI: can you reject H0 that nonresearchers and re- searchers have equal admission chance at 5% level?\n",
    "The confidence interval does not contain zero. So with 95% confidence we can reject the null hypothesis that the mean chance of admission of researchers is equal to the mean chance of admission of non-researchers.\n",
    "\n",
    "<h3> 2.4"
   ]
  },
  {
   "cell_type": "code",
   "execution_count": 36,
   "id": "c8b26788-2135-4e3d-8e28-631f4ce58ca0",
   "metadata": {},
   "outputs": [
    {
     "data": {
      "text/plain": [
       "13.347126182410905"
      ]
     },
     "execution_count": 36,
     "metadata": {},
     "output_type": "execute_result"
    }
   ],
   "source": [
    "t = (mean - 0)/se\n",
    "t"
   ]
  },
  {
   "cell_type": "markdown",
   "id": "17005cf9-8969-4cae-8ba3-964edb08ddf7",
   "metadata": {},
   "source": [
    "<h3> 2.5 </h3> \n",
    "What is the likelihood that such a t value happens just by random chance? Consult the t-table.\n",
    "\n",
    "From the t-table, the likelyhood of such a t value occuring may be over 99%.\n",
    "\n",
    "<h2> 3 Use canned t-test function </h2> \n",
    "<h3> 3.1 </h3> "
   ]
  },
  {
   "cell_type": "code",
   "execution_count": 37,
   "id": "fbdf407c-9aa2-44b6-bdcf-b655f4848564",
   "metadata": {},
   "outputs": [],
   "source": [
    "import scipy.stats as sc"
   ]
  },
  {
   "cell_type": "code",
   "execution_count": 38,
   "id": "e2bc2fab-8f73-4e2b-a191-d7bc94936164",
   "metadata": {},
   "outputs": [
    {
     "data": {
      "text/plain": [
       "Ttest_indResult(statistic=13.347126182410907, pvalue=8.966853051858437e-34)"
      ]
     },
     "execution_count": 38,
     "metadata": {},
     "output_type": "execute_result"
    }
   ],
   "source": [
    "t_val = sc.ttest_ind(research, no_research, equal_var=False, alternative='two-sided') \n",
    "t_val"
   ]
  },
  {
   "cell_type": "markdown",
   "id": "a79eda8b-2afd-4cf6-b008-dbc0b4e61351",
   "metadata": {
    "tags": []
   },
   "source": [
    "<h3> 3. </h3> \n",
    "Finally, state your conclusion: do researchers have better admission chances than non- researchers?\n",
    "\n",
    "The p value is 8.966 which is greater than the critical value, so we can reject the null hypothesis that the mean chance of admission of researchers is equal to the mean chance of admission of non-researchers.\n",
    "\n",
    "Do all of your three methods: simulations, 95% CI, t-value and python’s t-test agree?\n",
    "\n",
    "All 3 methods give the same result.\n"
   ]
  },
  {
   "cell_type": "code",
   "execution_count": null,
   "id": "b5f94b5c-72a8-46ea-b816-f41c7e5bc12c",
   "metadata": {},
   "outputs": [],
   "source": []
  }
 ],
 "metadata": {
  "kernelspec": {
   "display_name": "Python 3 (ipykernel)",
   "language": "python",
   "name": "python3"
  },
  "language_info": {
   "codemirror_mode": {
    "name": "ipython",
    "version": 3
   },
   "file_extension": ".py",
   "mimetype": "text/x-python",
   "name": "python",
   "nbconvert_exporter": "python",
   "pygments_lexer": "ipython3",
   "version": "3.9.7"
  }
 },
 "nbformat": 4,
 "nbformat_minor": 5
}
