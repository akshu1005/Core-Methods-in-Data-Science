{
 "cells": [
  {
   "cell_type": "markdown",
   "id": "217dfa6a-7636-4482-90bc-c5f00d695d16",
   "metadata": {},
   "source": [
    "# Lab 2 #\n",
    "Akshita Gundavarapu "
   ]
  },
  {
   "cell_type": "markdown",
   "id": "b5baab2e-9cd7-44a9-9851-574bbe888555",
   "metadata": {},
   "source": [
    "1) Explain which object(s) did you toss, and if you had two of these or just a single object.\n",
    "\n",
    "I tossed a single coin twice"
   ]
  },
  {
   "cell_type": "markdown",
   "id": "e5c8b669-e330-4afc-9bba-15a5f25d1840",
   "metadata": {},
   "source": [
    "2. Toss the coins.\n",
    "\n",
    "This is a table of my observations for each trial.\n",
    "\n",
    "|Trial | # of heads | \n",
    "| :----: | :--------: |\n",
    "|1 |2|\n",
    "|2 |2|\n",
    "|3 |0|\n",
    "|4 |0|\n",
    "|5 |1|\n",
    "|6 |0|\n",
    "|7 |0|\n",
    "|8 |1|\n",
    "|9 |1|\n",
    "|10 |2|\n",
    "|11 |1|\n",
    "|12 |1|\n",
    "|13 |1|\n",
    "|14 |2|\n",
    "|15 |1|\n",
    "|16 |1|\n",
    "|17 |2|\n",
    "|18 |2|\n",
    "|19 |0|\n",
    "|20 |0|\n",
    "\n"
   ]
  },
  {
   "cell_type": "markdown",
   "id": "2fbcc380-45e6-4814-a26c-30b6cf469fab",
   "metadata": {},
   "source": [
    "3. Summary table:\n",
    "\n",
    "The summary table counts the number of time we got zero heads, 1 head and 2 heads.\n",
    "\n",
    "|count of 0 | count of 1 | count of 2|\n",
    "| :----: | :--------: | :--------:|\n",
    "| 6 | 8 | 6 |\n",
    "\n",
    "4. Compute the mean, median and mode of the number of heads per trial in your experiment.\n",
    "\n",
    "Mean can be calculated as the sum of all observation divided by the number of observations. "
   ]
  },
  {
   "cell_type": "code",
   "execution_count": 33,
   "id": "d4efe0b7-2af9-4e6d-b77a-1a0a327c88de",
   "metadata": {},
   "outputs": [
    {
     "data": {
      "text/plain": [
       "1.0"
      ]
     },
     "execution_count": 33,
     "metadata": {},
     "output_type": "execute_result"
    }
   ],
   "source": [
    "mean_of_number_of_heads = (0*6 + 1*8 + 2*6)/20\n",
    "mean_of_number_of_heads"
   ]
  },
  {
   "cell_type": "markdown",
   "id": "ccf66f72-623f-4dcc-90bc-bbf346ff9222",
   "metadata": {},
   "source": [
    "arranging in ascending order: \n",
    "\n",
    "0 0 0 0 0 0 1 1 1 1 1 1 1 1 2 2 2 2 2 2 \n",
    "\n",
    "\n",
    "Median is the middle value of all the observations.\n",
    "\n",
    "meadian = average of the middle two values\n",
    "= (1 + 1) / 2 = 1"
   ]
  },
  {
   "cell_type": "markdown",
   "id": "7b0a2233-2ab2-402b-b1ce-9a014c166b7e",
   "metadata": {},
   "source": [
    "Mode is the most occured value of all the observations.\n",
    "\n",
    "mode is 1. From the summmary table we can see that 1 is the most occored value as it appears 8 times. \n",
    "\n",
    "5. Which one is larger: mean or median?\n",
    "\n",
    "The mean, median and mode are all the same value of 1.0\n",
    "\n",
    "6. Compute the variance in number of heads in your experiment.\n"
   ]
  },
  {
   "cell_type": "code",
   "execution_count": 7,
   "id": "b4341931-ff13-4c5e-acff-263e20c15f88",
   "metadata": {},
   "outputs": [],
   "source": [
    "values = (0, 0, 0, 0, 0, 0, 1, 1, 1, 1, 1, 1, 1, 1, 2, 2, 2, 2, 2, 2) "
   ]
  },
  {
   "cell_type": "code",
   "execution_count": 36,
   "id": "ca470c8b-b3ee-4f63-ba2f-f5c4ee6f2e2b",
   "metadata": {},
   "outputs": [
    {
     "data": {
      "text/plain": [
       "31.0"
      ]
     },
     "execution_count": 36,
     "metadata": {},
     "output_type": "execute_result"
    }
   ],
   "source": [
    "mean_of_values_squared = ((0**2)*6) + ((1**2)*8) + ((2**2)*6)\n",
    "\n",
    "variance = mean_of_values_squared - (mean_of_number_of_heads**2)\n",
    "variance"
   ]
  },
  {
   "cell_type": "markdown",
   "id": "29b2407d-ea2a-4722-b654-19574ca906be",
   "metadata": {},
   "source": [
    "7. Compute standard deviation."
   ]
  },
  {
   "cell_type": "code",
   "execution_count": 23,
   "id": "80d49bb8-8297-4c26-be67-6da41c069186",
   "metadata": {},
   "outputs": [
    {
     "data": {
      "text/plain": [
       "5.5678"
      ]
     },
     "execution_count": 23,
     "metadata": {},
     "output_type": "execute_result"
    }
   ],
   "source": [
    "standard_deviation = variance**0.5\n",
    "round(standard_deviation, 4)\n",
    "\n",
    "The observations vary 5.56 "
   ]
  },
  {
   "cell_type": "markdown",
   "id": "13e6aaff-38c6-43b8-92ae-a51fb642c37b",
   "metadata": {},
   "source": [
    "8. Compute 0.25th quantile (25th percentile or lower quartile) of your results.\n",
    "\n",
    "values = (0, 0, 0, 0, 0, 0, 1, 1, 1, 1, 1, 1, 1, 1, 2, 2, 2, 2, 2, 2) \n",
    "\n",
    "There are a total of 20 observations, the 50th percentile would be half of that which would be between the 10th and 11th observation. The 25th percentile would be the first half of the 50th percentile so it would be between the 4th and 5th observation. The values above are already arranged in ascending order so the 25th percentile would be the average of the 4th and 5th observation, which would be (0+0)/2 = 0. \n",
    "\n",
    "Therefore, the 25th percentile for my results is 0.0"
   ]
  },
  {
   "cell_type": "markdown",
   "id": "bfbb4c3d-57e6-4123-a143-41590b23b8f0",
   "metadata": {},
   "source": [
    "9. Plot histogram of your results."
   ]
  },
  {
   "cell_type": "code",
   "execution_count": 28,
   "id": "76dc5420-9b92-475f-808f-0a6eb2b94ce1",
   "metadata": {},
   "outputs": [
    {
     "data": {
      "image/png": "[encoded data removed]",
      "text/plain": [
       "<Figure size 432x288 with 1 Axes>"
      ]
     },
     "metadata": {
      "needs_background": "light"
     },
     "output_type": "display_data"
    }
   ],
   "source": [
    "import matplotlib.pyplot as plt\n",
    "_= plt.hist(values)"
   ]
  },
  {
   "cell_type": "markdown",
   "id": "73612dc7-8c2c-4e1f-aba4-c1051224e45c",
   "metadata": {},
   "source": [
    "These results look somewhat symetrical in the histogram above. However, I believe 20 observations are not enough to make an assumption about the distribution. We would need toconduct the experiment more times and get a larger frequency of observations to make a deduction."
   ]
  },
  {
   "cell_type": "code",
   "execution_count": null,
   "id": "ad99f713-f09a-4b08-ad03-f83b39b5b3f5",
   "metadata": {},
   "outputs": [],
   "source": []
  }
 ],
 "metadata": {
  "kernelspec": {
   "display_name": "Python 3 (ipykernel)",
   "language": "python",
   "name": "python3"
  },
  "language_info": {
   "codemirror_mode": {
    "name": "ipython",
    "version": 3
   },
   "file_extension": ".py",
   "mimetype": "text/x-python",
   "name": "python",
   "nbconvert_exporter": "python",
   "pygments_lexer": "ipython3",
   "version": "3.9.7"
  }
 },
 "nbformat": 4,
 "nbformat_minor": 5
}
