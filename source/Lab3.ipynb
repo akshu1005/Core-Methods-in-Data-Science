{
 "cells": [
  {
   "cell_type": "markdown",
   "id": "14ad3dae-b013-48f5-b855-759158836ce1",
   "metadata": {},
   "source": [
    "<h1> Lab 3 </h1> \n",
    "<h2> Akshita Gundavarapu "
   ]
  },
  {
   "cell_type": "code",
   "execution_count": null,
   "id": "baa86efa-efb7-4e71-aa61-2a8cf0a4782a",
   "metadata": {},
   "outputs": [],
   "source": [
    "import numpy as np\n",
    "import pandas as pd\n",
    "import matplotlib.pyplot as plt"
   ]
  },
  {
   "cell_type": "markdown",
   "id": "54a3adfe-395e-42fc-a3c8-3d3208b5a61d",
   "metadata": {},
   "source": [
    "<h2> 1 Test data under H0 \n",
    "    <h3> 1.1 </h3>\n",
    "        What is your H0–the claim about the world you want to test? Explain! Hint: what value you must reject to be confident in this claim?\n",
    "    \n",
    "    Denote X=0 if prefers F and X=1 if prefers O. \n",
    "    Sample average X_bar = 0.47826\n",
    "    We want to reject/ not reject hyptheses such as:\n",
    "    \n",
    "    H0: E X < 0.5 \n",
    "    \n",
    "    More than 50% of the population prefer F. \n",
    "    With 95% confidence we may be able to say that Hungary's voters prefer O.\n",
    "<h3> 1.2 </h3>\n",
    "   "
   ]
  },
  {
   "cell_type": "code",
   "execution_count": 56,
   "id": "6c70ccb1-8f27-4998-b9fc-1f174a4e32cb",
   "metadata": {},
   "outputs": [],
   "source": [
    "#1: prefer O\n",
    "#0: prefer F\n",
    "R = 1000\n",
    "N = 1840\n",
    "p = 0.5"
   ]
  },
  {
   "cell_type": "markdown",
   "id": "7cdc278e-a9ed-4719-9211-6b5b058c8e09",
   "metadata": {},
   "source": [
    "<h3> 1.3 </h3>"
   ]
  },
  {
   "cell_type": "code",
   "execution_count": 57,
   "id": "2bb018cc-c46a-498e-847e-6841f4eaba4d",
   "metadata": {},
   "outputs": [],
   "source": [
    "np.random.seed(1)\n",
    "poll = []\n",
    "\n",
    "for i in range(1, R):\n",
    "    x = np.random.binomial(1, p, N)\n",
    "    poll.append(x)\n"
   ]
  },
  {
   "cell_type": "markdown",
   "id": "430a467a-1bfb-4c28-92a6-47c64cef20bd",
   "metadata": {},
   "source": [
    "<h3> 1.4 "
   ]
  },
  {
   "cell_type": "code",
   "execution_count": 52,
   "id": "bd341f93-dcfe-439b-989e-ee2aaf3db6d9",
   "metadata": {},
   "outputs": [],
   "source": [
    "pollmeans = []\n",
    "for i in range(1,R-1):\n",
    "    mean = np.mean(poll[i])\n",
    "    pollmeans.append(mean)\n"
   ]
  },
  {
   "cell_type": "markdown",
   "id": "da0b1f7b-9d63-43f8-a9ef-05a7871128db",
   "metadata": {},
   "source": [
    "<h3> 1.5"
   ]
  },
  {
   "cell_type": "code",
   "execution_count": 53,
   "id": "e9ea2624-4e20-4b26-87e3-a7ebcde5746e",
   "metadata": {},
   "outputs": [
    {
     "data": {
      "text/plain": [
       "array([0.47554348, 0.52232337])"
      ]
     },
     "execution_count": 53,
     "metadata": {},
     "output_type": "execute_result"
    }
   ],
   "source": [
    "np.percentile(pollmeans, [2.5, 97.5])"
   ]
  },
  {
   "cell_type": "markdown",
   "id": "e1ffbe73-dadd-4dd3-8285-6f4ff7dd9a02",
   "metadata": {},
   "source": [
    "<h3> 1.6 </h3> \n",
    "The actual poll result of 0.47826 falls under this confidence interval. \n",
    "\n",
    "<h3> 1.7 </h3> \n",
    "Based on the CI you computed answer the question: can you confidently (at 5% confidence level) say that F is ahead and O has no chance?\n",
    "\n",
    "The actual poll result falls under the confidence interval so we can say with 95% confidence that we fail to reject H0. \n",
    "We say with 95% confidence that the authoritarian F is leading in the polls. \n",
    "\n",
    "<h2> 2\n",
    "Test H0 under data </h2> \n",
    "\n",
    "<h3> 2.1 "
   ]
  },
  {
   "cell_type": "code",
   "execution_count": 55,
   "id": "7607cf13-c207-4459-a580-63c3c5aa88ed",
   "metadata": {},
   "outputs": [],
   "source": [
    "np.random.seed(1)\n",
    "polls_1 = []\n",
    "\n",
    "for i in range(1, R):\n",
    "    x = np.random.binomial(1, 0.47826 , N)\n",
    "    polls_1.append(x)"
   ]
  },
  {
   "cell_type": "markdown",
   "id": "b3293273-c2c9-44a9-809f-b9d0c10e33e4",
   "metadata": {},
   "source": [
    "<h3> 2.2"
   ]
  },
  {
   "cell_type": "code",
   "execution_count": 58,
   "id": "6be91c32-b9f9-4bdf-8f1a-87a4a862fac4",
   "metadata": {},
   "outputs": [],
   "source": [
    "pollmeans_1 = []\n",
    "for i in range(1,R-1):\n",
    "    mean = np.mean(poll[i])\n",
    "    pollmeans_1.append(mean)\n"
   ]
  },
  {
   "cell_type": "markdown",
   "id": "cea67a29-ad80-4725-a901-d6005363c223",
   "metadata": {},
   "source": [
    "<h3> 2.3"
   ]
  },
  {
   "cell_type": "code",
   "execution_count": 59,
   "id": "2f18c0f5-f963-4b7d-855c-2be1fc2a494c",
   "metadata": {},
   "outputs": [
    {
     "data": {
      "text/plain": [
       "array([0.47554348, 0.52232337])"
      ]
     },
     "execution_count": 59,
     "metadata": {},
     "output_type": "execute_result"
    }
   ],
   "source": [
    "np.percentile(pollmeans_1, [2.5, 97.5])"
   ]
  },
  {
   "cell_type": "markdown",
   "id": "e5135900-7714-47e8-822c-b75d129572a3",
   "metadata": {},
   "source": [
    "<h3> 2.4 </h3>\n",
    "    \n",
    "   0.5 falls in my C.I\n",
    "   \n",
    "<h3> 2.5 </h3>\n",
    "Based on the CI you computed answer the question: can you confidently (at 95% confidence level) say that Greens are leading in the polls?\n",
    "\n",
    "\n"
   ]
  }
 ],
 "metadata": {
  "kernelspec": {
   "display_name": "Python 3 (ipykernel)",
   "language": "python",
   "name": "python3"
  },
  "language_info": {
   "codemirror_mode": {
    "name": "ipython",
    "version": 3
   },
   "file_extension": ".py",
   "mimetype": "text/x-python",
   "name": "python",
   "nbconvert_exporter": "python",
   "pygments_lexer": "ipython3",
   "version": "3.9.7"
  }
 },
 "nbformat": 4,
 "nbformat_minor": 5
}
