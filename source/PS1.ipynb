{
 "cells": [
  {
   "cell_type": "markdown",
   "id": "c8407e82-0a56-4b63-867d-6931c2c60b4f",
   "metadata": {},
   "source": [
    "<h1>Problem Set 1 </h1>\n",
    "Aksita Gundavarapu "
   ]
  },
  {
   "cell_type": "code",
   "execution_count": null,
   "id": "c1011787-6571-424e-b934-91e6442da255",
   "metadata": {},
   "outputs": [],
   "source": [
    "import numpy as np \n",
    "import pandas as pd"
   ]
  },
  {
   "cell_type": "markdown",
   "id": "0047eebf-f4d6-42dc-88d8-9578e7b726eb",
   "metadata": {},
   "source": [
    "<h2> 1 Lists </h2>\n",
    "<h3> 1.1 </h3>"
   ]
  },
  {
   "cell_type": "code",
   "execution_count": 2,
   "id": "ef4d4dab-617f-4740-a5e5-8660214c8e91",
   "metadata": {},
   "outputs": [],
   "source": [
    "movies = [\"Up\", \"Spider-man\", \"Eternals\", \"Incredibles\", \"Home Alone\", \"Tangled\"]"
   ]
  },
  {
   "cell_type": "markdown",
   "id": "460f1036-f282-49b6-b7e9-9030e45e081c",
   "metadata": {},
   "source": [
    "I just created a list of movies I like or watched recently\n",
    "<h3> 1.2"
   ]
  },
  {
   "cell_type": "code",
   "execution_count": 3,
   "id": "0130ee63-c86d-40c3-b2af-1f1ca8159bbe",
   "metadata": {},
   "outputs": [
    {
     "data": {
      "text/plain": [
       "['Up', 'Spider-man', 'Eternals']"
      ]
     },
     "execution_count": 3,
     "metadata": {},
     "output_type": "execute_result"
    }
   ],
   "source": [
    "movies[0:3]"
   ]
  },
  {
   "cell_type": "markdown",
   "id": "60f7d129-bc60-4586-abb3-255644fab41c",
   "metadata": {},
   "source": [
    "I used the slicing operator to get the first 3 elements of my list\n",
    "<h3> 1.3"
   ]
  },
  {
   "cell_type": "markdown",
   "id": "89a9fabf-0b4c-400c-b4c3-25cf387f4540",
   "metadata": {},
   "source": [
    "m = movies[0:2]\n",
    "n = movies[4:6]\n",
    "concatanated_movies = m + n\n",
    "print(concatanated_movies)"
   ]
  },
  {
   "cell_type": "markdown",
   "id": "194160c2-a4dc-429a-95a5-b6b54494e6e9",
   "metadata": {},
   "source": [
    "I used the slicing operator to get the first two and last two elements of my list and then used list concatanation to join them together. \n",
    "<h2> 2 Loops </h2>\n",
    "<h3> 2.1\n"
   ]
  },
  {
   "cell_type": "code",
   "execution_count": 48,
   "id": "2f65dfed-f96b-4194-8fe0-fdbda295f259",
   "metadata": {},
   "outputs": [
    {
     "name": "stdout",
     "output_type": "stream",
     "text": [
      "[70, 71, 72, 73, 74, 75, 76, 77, 78, 79]\n"
     ]
    }
   ],
   "source": [
    "l = []\n",
    "for i in range(10):\n",
    "     l.insert(i, 70+i)\n",
    "print(l)"
   ]
  },
  {
   "cell_type": "markdown",
   "id": "a23c23cb-24bd-4790-b2d9-13e1a984cbad",
   "metadata": {},
   "source": [
    "https://www.geeksforgeeks.org/python-list-insert/\n",
    " \n",
    "I looked up the insert function from the link above to insert values into an empty list.\n",
    "<h3> 2.2"
   ]
  },
  {
   "cell_type": "code",
   "execution_count": 47,
   "id": "81877aec-210a-4ff9-b1c5-ec86aa434bf1",
   "metadata": {},
   "outputs": [
    {
     "name": "stdout",
     "output_type": "stream",
     "text": [
      "5050\n"
     ]
    }
   ],
   "source": [
    "sum = 0\n",
    "for i in range (101):\n",
    "    sum += i\n",
    "print(sum)"
   ]
  },
  {
   "cell_type": "markdown",
   "id": "93072702-7d2a-40ff-b227-effb3e834f9d",
   "metadata": {},
   "source": [
    "I used a for loop to add values from one to 100 to a variable named sum \n",
    "<h3>2.3</h3>"
   ]
  },
  {
   "cell_type": "code",
   "execution_count": 54,
   "id": "170b8f96-c42e-4b81-807f-5b35a7a0c540",
   "metadata": {},
   "outputs": [
    {
     "name": "stdout",
     "output_type": "stream",
     "text": [
      "Adam : 33\n",
      "Ashin : 12\n",
      "Inukai : 45\n",
      "Tanaka : 2\n"
     ]
    }
   ],
   "source": [
    "names = [\"Adam\" , \"Ashin\" , \"Inukai\" , \"Tanaka\" , \"Ikki\"]\n",
    "seats = [33, 12, 45, 2, 17]\n",
    "for i in range(4):\n",
    "    name = names[i]\n",
    "    seat = seats[i]\n",
    "    print(name, \":\", seat)"
   ]
  },
  {
   "cell_type": "markdown",
   "id": "67bbed12-610c-4fe0-9fd1-f4fcd1edcded",
   "metadata": {},
   "source": [
    "<h2> 3 Comprehensions</h2>\n",
    "<h3> 3.1"
   ]
  },
  {
   "cell_type": "code",
   "execution_count": 59,
   "id": "d6d2d73d-1417-4aea-976b-6a07d0ef1468",
   "metadata": {},
   "outputs": [
    {
     "name": "stdout",
     "output_type": "stream",
     "text": [
      "[1, 4, 9, 16, 25, 36, 49, 64, 81, 100]\n"
     ]
    }
   ],
   "source": [
    "n = [1, 2, 3, 4, 5, 6, 7, 8, 9, 10]\n",
    "n_square = [x**2 for x in n]\n",
    "print(n_square)"
   ]
  },
  {
   "cell_type": "markdown",
   "id": "88dcece2-6b06-4efa-9142-a94203e07852",
   "metadata": {},
   "source": [
    "https://www.w3schools.com/python/python_lists_comprehension.asp\n",
    "\n",
    "I used the link above to look up list comphrehensions\n",
    "<h3> 3.2"
   ]
  },
  {
   "cell_type": "code",
   "execution_count": 61,
   "id": "3774a95f-8e25-4b57-9083-4e91869dc5dd",
   "metadata": {},
   "outputs": [
    {
     "name": "stdout",
     "output_type": "stream",
     "text": [
      "{1: 1, 2: 4, 3: 9, 4: 16, 5: 25, 6: 36, 7: 49, 8: 64, 9: 81, 10: 100}\n"
     ]
    }
   ],
   "source": [
    "dict1 = {1: 1, 2: 2, 3: 3, 4: 4, 5: 5, 6: 6, 7: 7, 8: 8, 9: 9, 10: 10}\n",
    "dict1_square = {k:v**2 for (k,v) in dict1.items()}\n",
    "print(dict1_square)"
   ]
  },
  {
   "cell_type": "markdown",
   "id": "5632b581-f3bb-413b-bee7-dcfaa649f993",
   "metadata": {},
   "source": [
    "https://www.datacamp.com/community/tutorials/python-dictionary-comprehension\n",
    "\n",
    "I used the link above to look up dict comphrehensions \n",
    "<h2> 4 Functions and data transformations </h2>\n",
    "<h3> 4.1"
   ]
  },
  {
   "cell_type": "code",
   "execution_count": 81,
   "id": "ae25e6e7-de1b-4fa6-a57a-9ee0d0a8083e",
   "metadata": {},
   "outputs": [
    {
     "name": "stdout",
     "output_type": "stream",
     "text": [
      "3.75\n",
      "10.25\n"
     ]
    }
   ],
   "source": [
    "def time(time):\n",
    "    hours = time//100\n",
    "    mins = time%100\n",
    "    fraction = mins/60\n",
    "    x = hours+fraction \n",
    "    return(x)\n",
    "\n",
    "print(time(345))\n",
    "print(time(1015))\n",
    "    "
   ]
  },
  {
   "cell_type": "markdown",
   "id": "a9db7397-3a43-4ba6-acc9-2fc1d90294a8",
   "metadata": {},
   "source": [
    "This function uses the operators suggested in the question to extract time and mins and then it converts mins to a fraction by diving it by 60 and then adds hours and the fraction.\n",
    "<h2> 5 Load Data </h2>\n",
    "<h3> 5.1"
   ]
  },
  {
   "cell_type": "code",
   "execution_count": 84,
   "id": "e471264f-b3d1-4384-8b46-fbe4f5f5b6bf",
   "metadata": {},
   "outputs": [],
   "source": [
    "gm = pd.read_csv(\"data /gapminder.csv\", sep= \"\\t\")\n"
   ]
  },
  {
   "cell_type": "markdown",
   "id": "47a63ea7-f6f2-435e-9c2d-b9082ed4dafe",
   "metadata": {
    "tags": []
   },
   "source": [
    "Code to read in data. Uses the /t seperator \n",
    "<h3> 5.2 </h3>"
   ]
  },
  {
   "cell_type": "code",
   "execution_count": 85,
   "id": "469d6b93-01eb-4944-912e-2e1840dd53a5",
   "metadata": {},
   "outputs": [
    {
     "data": {
      "text/plain": [
       "(13055, 25)"
      ]
     },
     "execution_count": 85,
     "metadata": {},
     "output_type": "execute_result"
    }
   ],
   "source": [
    "gm.shape"
   ]
  },
  {
   "cell_type": "code",
   "execution_count": 88,
   "id": "507dd04e-fbc3-48b5-864d-7ac8d95afcb8",
   "metadata": {},
   "outputs": [
    {
     "name": "stdout",
     "output_type": "stream",
     "text": [
      "13055\n"
     ]
    }
   ],
   "source": [
    "rows = gm.shape[0]\n",
    "print(rows)"
   ]
  },
  {
   "cell_type": "code",
   "execution_count": 89,
   "id": "7515b6ad-8b71-4a7c-b13b-7402e38e6f8e",
   "metadata": {},
   "outputs": [
    {
     "name": "stdout",
     "output_type": "stream",
     "text": [
      "25\n"
     ]
    }
   ],
   "source": [
    "colomns = gm.shape[1]\n",
    "print(colomns)"
   ]
  },
  {
   "cell_type": "code",
   "execution_count": 90,
   "id": "3f836354-7532-4c2e-ab28-c688c94f2e07",
   "metadata": {},
   "outputs": [
    {
     "data": {
      "text/html": [
       "<div>\n",
       "<style scoped>\n",
       "    .dataframe tbody tr th:only-of-type {\n",
       "        vertical-align: middle;\n",
       "    }\n",
       "\n",
       "    .dataframe tbody tr th {\n",
       "        vertical-align: top;\n",
       "    }\n",
       "\n",
       "    .dataframe thead th {\n",
       "        text-align: right;\n",
       "    }\n",
       "</style>\n",
       "<table border=\"1\" class=\"dataframe\">\n",
       "  <thead>\n",
       "    <tr style=\"text-align: right;\">\n",
       "      <th></th>\n",
       "      <th>iso3</th>\n",
       "      <th>name</th>\n",
       "      <th>iso2</th>\n",
       "      <th>region</th>\n",
       "      <th>sub-region</th>\n",
       "      <th>intermediate-region</th>\n",
       "      <th>time</th>\n",
       "      <th>totalPopulation</th>\n",
       "      <th>fertilityRate</th>\n",
       "      <th>lifeExpectancy</th>\n",
       "      <th>...</th>\n",
       "      <th>accessElectricity</th>\n",
       "      <th>agriculturalLand</th>\n",
       "      <th>agricultureTractors</th>\n",
       "      <th>cerealProduction</th>\n",
       "      <th>fertilizerHa</th>\n",
       "      <th>co2</th>\n",
       "      <th>greenhouseGases</th>\n",
       "      <th>co2_PC</th>\n",
       "      <th>pm2.5_35</th>\n",
       "      <th>battleDeaths</th>\n",
       "    </tr>\n",
       "  </thead>\n",
       "  <tbody>\n",
       "    <tr>\n",
       "      <th>0</th>\n",
       "      <td>ABW</td>\n",
       "      <td>Aruba</td>\n",
       "      <td>AW</td>\n",
       "      <td>Americas</td>\n",
       "      <td>Latin America and the Caribbean</td>\n",
       "      <td>Caribbean</td>\n",
       "      <td>1960.0</td>\n",
       "      <td>54211.0</td>\n",
       "      <td>4.820</td>\n",
       "      <td>65.662</td>\n",
       "      <td>...</td>\n",
       "      <td>NaN</td>\n",
       "      <td>NaN</td>\n",
       "      <td>NaN</td>\n",
       "      <td>NaN</td>\n",
       "      <td>NaN</td>\n",
       "      <td>11092.675</td>\n",
       "      <td>NaN</td>\n",
       "      <td>204.62037</td>\n",
       "      <td>NaN</td>\n",
       "      <td>NaN</td>\n",
       "    </tr>\n",
       "    <tr>\n",
       "      <th>1</th>\n",
       "      <td>ABW</td>\n",
       "      <td>Aruba</td>\n",
       "      <td>AW</td>\n",
       "      <td>Americas</td>\n",
       "      <td>Latin America and the Caribbean</td>\n",
       "      <td>Caribbean</td>\n",
       "      <td>1961.0</td>\n",
       "      <td>55438.0</td>\n",
       "      <td>4.655</td>\n",
       "      <td>66.074</td>\n",
       "      <td>...</td>\n",
       "      <td>NaN</td>\n",
       "      <td>20.0</td>\n",
       "      <td>NaN</td>\n",
       "      <td>NaN</td>\n",
       "      <td>NaN</td>\n",
       "      <td>11576.719</td>\n",
       "      <td>NaN</td>\n",
       "      <td>208.82281</td>\n",
       "      <td>NaN</td>\n",
       "      <td>NaN</td>\n",
       "    </tr>\n",
       "    <tr>\n",
       "      <th>2</th>\n",
       "      <td>ABW</td>\n",
       "      <td>Aruba</td>\n",
       "      <td>AW</td>\n",
       "      <td>Americas</td>\n",
       "      <td>Latin America and the Caribbean</td>\n",
       "      <td>Caribbean</td>\n",
       "      <td>1962.0</td>\n",
       "      <td>56225.0</td>\n",
       "      <td>4.471</td>\n",
       "      <td>66.444</td>\n",
       "      <td>...</td>\n",
       "      <td>NaN</td>\n",
       "      <td>20.0</td>\n",
       "      <td>NaN</td>\n",
       "      <td>NaN</td>\n",
       "      <td>NaN</td>\n",
       "      <td>12713.489</td>\n",
       "      <td>NaN</td>\n",
       "      <td>226.11808</td>\n",
       "      <td>NaN</td>\n",
       "      <td>NaN</td>\n",
       "    </tr>\n",
       "  </tbody>\n",
       "</table>\n",
       "<p>3 rows × 25 columns</p>\n",
       "</div>"
      ],
      "text/plain": [
       "  iso3   name iso2    region                       sub-region  \\\n",
       "0  ABW  Aruba   AW  Americas  Latin America and the Caribbean   \n",
       "1  ABW  Aruba   AW  Americas  Latin America and the Caribbean   \n",
       "2  ABW  Aruba   AW  Americas  Latin America and the Caribbean   \n",
       "\n",
       "  intermediate-region    time  totalPopulation  fertilityRate  lifeExpectancy  \\\n",
       "0           Caribbean  1960.0          54211.0          4.820          65.662   \n",
       "1           Caribbean  1961.0          55438.0          4.655          66.074   \n",
       "2           Caribbean  1962.0          56225.0          4.471          66.444   \n",
       "\n",
       "   ...  accessElectricity  agriculturalLand  agricultureTractors  \\\n",
       "0  ...                NaN               NaN                  NaN   \n",
       "1  ...                NaN              20.0                  NaN   \n",
       "2  ...                NaN              20.0                  NaN   \n",
       "\n",
       "   cerealProduction  fertilizerHa        co2  greenhouseGases     co2_PC  \\\n",
       "0               NaN           NaN  11092.675              NaN  204.62037   \n",
       "1               NaN           NaN  11576.719              NaN  208.82281   \n",
       "2               NaN           NaN  12713.489              NaN  226.11808   \n",
       "\n",
       "   pm2.5_35  battleDeaths  \n",
       "0       NaN           NaN  \n",
       "1       NaN           NaN  \n",
       "2       NaN           NaN  \n",
       "\n",
       "[3 rows x 25 columns]"
      ]
     },
     "execution_count": 90,
     "metadata": {},
     "output_type": "execute_result"
    }
   ],
   "source": [
    "gm.head(3)"
   ]
  },
  {
   "cell_type": "markdown",
   "id": "3555001e-9025-4151-8638-4f29b7268b7a",
   "metadata": {},
   "source": [
    "This data looks reasonable the times are mainly in the 1960's and most coloumns have valid data. Country and region names also make sense.\n",
    "<h2> 6 Wealth </h2>\n",
    "<h3> 6.1 </h3>"
   ]
  },
  {
   "cell_type": "code",
   "execution_count": 104,
   "id": "34cd06cc-9dda-48cb-b617-a38a7e07d1b9",
   "metadata": {},
   "outputs": [
    {
     "data": {
      "text/plain": [
       "249"
      ]
     },
     "execution_count": 104,
     "metadata": {},
     "output_type": "execute_result"
    }
   ],
   "source": [
    "gm1 = gm.groupby(\"name\")\n",
    "len(gm1)"
   ]
  },
  {
   "cell_type": "markdown",
   "id": "8393615e-30cd-4aeb-abe0-f6313772a529",
   "metadata": {},
   "source": [
    "I group the data using the country name so there and then I found the length of the grouped data as it would give me the number of unique country names.\n",
    "<h3> 6.2"
   ]
  },
  {
   "cell_type": "code",
   "execution_count": 113,
   "id": "ee98ad58-1637-4dba-8db5-79d5a783ee9e",
   "metadata": {},
   "outputs": [
    {
     "name": "stdout",
     "output_type": "stream",
     "text": [
      "1960.0\n"
     ]
    }
   ],
   "source": [
    "earliest = gm.time.min()\n",
    "print(earliest)"
   ]
  },
  {
   "cell_type": "code",
   "execution_count": 114,
   "id": "2e4d1786-fe1b-47f7-a1f1-d65cc2561d4f",
   "metadata": {},
   "outputs": [
    {
     "name": "stdout",
     "output_type": "stream",
     "text": [
      "2019.0\n"
     ]
    }
   ],
   "source": [
    "latest = gm.time.max()\n",
    "print(latest)"
   ]
  },
  {
   "cell_type": "markdown",
   "id": "77722402-76d2-4c48-981a-7fc66edac4de",
   "metadata": {},
   "source": [
    "<h3> 6.3"
   ]
  },
  {
   "cell_type": "code",
   "execution_count": 116,
   "id": "aff79e4e-0af2-4b2f-bf43-7f7b6670e31b",
   "metadata": {},
   "outputs": [
    {
     "data": {
      "text/plain": [
       "2019.0"
      ]
     },
     "execution_count": 116,
     "metadata": {},
     "output_type": "execute_result"
    }
   ],
   "source": [
    "gm2 = gm[~gm.GDP_PC.isna()]\n",
    "gm2.time.max()"
   ]
  },
  {
   "cell_type": "markdown",
   "id": "77cfe944-d9eb-4292-be4e-ccfe2c795d92",
   "metadata": {},
   "source": [
    "I removed all na valies from GDP per capita variable and then I found the latest year. \n",
    "<h3> 6.4 "
   ]
  },
  {
   "cell_type": "code",
   "execution_count": 127,
   "id": "da297da8-e6eb-4bd9-84b0-6e7bed3353fd",
   "metadata": {},
   "outputs": [
    {
     "name": "stdout",
     "output_type": "stream",
     "text": [
      "15055.352217243239\n"
     ]
    }
   ],
   "source": [
    "gm3 = gm2[gm2.time == 2019]\n",
    "average_wealth = gm3.GDP_PC.mean()\n",
    "print(average_wealth)\n"
   ]
  },
  {
   "cell_type": "markdown",
   "id": "897839a8-fe39-4571-b339-aad712ed6ccd",
   "metadata": {},
   "source": [
    "I created a new dataset of all values from only year 2019 and then i used the mean funcyion to calculate the average GDP.\n",
    "<h3> 6.5 "
   ]
  },
  {
   "cell_type": "code",
   "execution_count": 131,
   "id": "316085a5-2efe-449f-aafc-6b48d6b296cc",
   "metadata": {},
   "outputs": [
    {
     "data": {
      "text/plain": [
       "name\n",
       "Djibouti                    2010.0\n",
       "Faroe Islands               2010.0\n",
       "Liechtenstein               2010.0\n",
       "Turks and Caicos Islands    2010.0\n",
       "Eritrea                     2011.0\n",
       "Name: time, dtype: float64"
      ]
     },
     "execution_count": 131,
     "metadata": {},
     "output_type": "execute_result"
    }
   ],
   "source": [
    "x = gm2.groupby(\"name\").time.max()\n",
    "x.nsmallest(5)"
   ]
  },
  {
   "cell_type": "markdown",
   "id": "035089e4-0456-41a0-9365-bec9e26ec522",
   "metadata": {},
   "source": [
    "What do you think, why do these countries have issues with more recent data?\n",
    "I be;ieve these countries may not have more recent data for GDP per capita maybe because they might have more to over measures of measuring wealth. These also seem like small countrie, so their data points may have been forgotten by researchers. \n",
    "<h3> 6.6 \n"
   ]
  },
  {
   "cell_type": "code",
   "execution_count": 170,
   "id": "540d0836-e66f-4bb3-954e-192a267a77d0",
   "metadata": {},
   "outputs": [
    {
     "data": {
      "text/plain": [
       "region\n",
       "Europe      33227.983767\n",
       "Americas    14516.826303\n",
       "Asia        14116.124163\n",
       "Oceania     11817.735554\n",
       "Africa       2765.708956\n",
       "Name: GDP_PC, dtype: float64"
      ]
     },
     "execution_count": 170,
     "metadata": {},
     "output_type": "execute_result"
    }
   ],
   "source": [
    "m = gm3.groupby(\"region\").GDP_PC.mean()\n",
    "m.sort_values(ascending = False)"
   ]
  },
  {
   "cell_type": "markdown",
   "id": "8221b3b2-0e30-40a4-894d-50029f9fa7eb",
   "metadata": {},
   "source": [
    "Do you think this order is reasonable?\n",
    "\n",
    "This order somewhat seems resonable. Europe and Americas are probably at the top as they have developed countries like USA and UK. While other regions like Africa don't have many developed countries. \n",
    "<h3> 6.7 </h3>"
   ]
  },
  {
   "cell_type": "code",
   "execution_count": 241,
   "id": "a9880d79-2996-422b-abdc-532a4b2d2b71",
   "metadata": {},
   "outputs": [
    {
     "name": "stdout",
     "output_type": "stream",
     "text": [
      "['Ukraine', 'Afghanistan', 'Haiti', 'Solomon Islands', 'Burundi']\n",
      "[3224.93517, 573.28755, 1245.0125, 1749.42726, 208.07473]\n",
      "[44386203.0, 38041754.0, 11263077.0, 669823.0, 11530580.0]\n",
      "['Luxembourg', 'Qatar', 'Bermuda', 'Australia', 'Seychelles']\n",
      "[111043.5317, 63281.67468, 94106.36125, 57183.37935, 15048.74693]\n",
      "[620001.0, 2832067.0, 64027.0, 25365745.0, 97625.0]\n"
     ]
    }
   ],
   "source": [
    "continents = [\"Europe\", \"Asia\", \"Americas\", \"Oceania\", \"Africa\"]\n",
    "poorest_name = []\n",
    "poorest_GDP = []\n",
    "poorest_population =[]\n",
    "richest_name = []\n",
    "richest_GDP = []\n",
    "richest_population =[]\n",
    "\n",
    "\n",
    "\n",
    "for i in range (5):\n",
    "    t = gm3[gm3.region == continents[i]]\n",
    "    m = t[t.GDP_PC == t.GDP_PC.min()]\n",
    "    poorest_name.append(m[\"name\"].values[0])\n",
    "    poorest_GDP.append(m[\"GDP_PC\"].values[0])\n",
    "    poorest_population.append(m[\"totalPopulation\"].values[0])\n",
    "    n = t[t.GDP_PC == t.GDP_PC.max()]\n",
    "    richest_name.append(n[\"name\"].values[0])\n",
    "    richest_GDP.append(n[\"GDP_PC\"].values[0])\n",
    "    richest_population.append(n[\"totalPopulation\"].values[0])\n",
    "    \n",
    "print(poorest_name)\n",
    "print(poorest_GDP)\n",
    "print(poorest_population) \n",
    "print(richest_name) \n",
    "print(richest_GDP)\n",
    "print(richest_population)\n"
   ]
  },
  {
   "cell_type": "markdown",
   "id": "5db0825d-73c5-4e4f-a0d1-fd331ce0e23b",
   "metadata": {},
   "source": [
    "For this Question I looked over the countries in each region and then I extracted the poorest and richest countries of each region and their corresponding GDP per capita and population \n",
    "<h3> 6.8"
   ]
  },
  {
   "cell_type": "code",
   "execution_count": 257,
   "id": "4fda4a26-22e1-4a64-85ef-91b13ed2574f",
   "metadata": {},
   "outputs": [
    {
     "data": {
      "text/html": [
       "<div>\n",
       "<style scoped>\n",
       "    .dataframe tbody tr th:only-of-type {\n",
       "        vertical-align: middle;\n",
       "    }\n",
       "\n",
       "    .dataframe tbody tr th {\n",
       "        vertical-align: top;\n",
       "    }\n",
       "\n",
       "    .dataframe thead th {\n",
       "        text-align: right;\n",
       "    }\n",
       "</style>\n",
       "<table border=\"1\" class=\"dataframe\">\n",
       "  <thead>\n",
       "    <tr style=\"text-align: right;\">\n",
       "      <th></th>\n",
       "      <th>Poorest Country</th>\n",
       "      <th>Poorest GDP</th>\n",
       "      <th>Poorest Population</th>\n",
       "      <th>Richest Country</th>\n",
       "      <th>Richest GDP</th>\n",
       "      <th>Richest Population</th>\n",
       "    </tr>\n",
       "    <tr>\n",
       "      <th>Region</th>\n",
       "      <th></th>\n",
       "      <th></th>\n",
       "      <th></th>\n",
       "      <th></th>\n",
       "      <th></th>\n",
       "      <th></th>\n",
       "    </tr>\n",
       "  </thead>\n",
       "  <tbody>\n",
       "    <tr>\n",
       "      <th>Europe</th>\n",
       "      <td>Ukraine</td>\n",
       "      <td>3224.93517</td>\n",
       "      <td>44386203.0</td>\n",
       "      <td>Luxembourg</td>\n",
       "      <td>111043.53170</td>\n",
       "      <td>620001.0</td>\n",
       "    </tr>\n",
       "    <tr>\n",
       "      <th>Asia</th>\n",
       "      <td>Afghanistan</td>\n",
       "      <td>573.28755</td>\n",
       "      <td>38041754.0</td>\n",
       "      <td>Qatar</td>\n",
       "      <td>63281.67468</td>\n",
       "      <td>2832067.0</td>\n",
       "    </tr>\n",
       "    <tr>\n",
       "      <th>Americas</th>\n",
       "      <td>Haiti</td>\n",
       "      <td>1245.01250</td>\n",
       "      <td>11263077.0</td>\n",
       "      <td>Bermuda</td>\n",
       "      <td>94106.36125</td>\n",
       "      <td>64027.0</td>\n",
       "    </tr>\n",
       "    <tr>\n",
       "      <th>Oceania</th>\n",
       "      <td>Solomon Islands</td>\n",
       "      <td>1749.42726</td>\n",
       "      <td>669823.0</td>\n",
       "      <td>Australia</td>\n",
       "      <td>57183.37935</td>\n",
       "      <td>25365745.0</td>\n",
       "    </tr>\n",
       "    <tr>\n",
       "      <th>Africa</th>\n",
       "      <td>Burundi</td>\n",
       "      <td>208.07473</td>\n",
       "      <td>11530580.0</td>\n",
       "      <td>Seychelles</td>\n",
       "      <td>15048.74693</td>\n",
       "      <td>97625.0</td>\n",
       "    </tr>\n",
       "  </tbody>\n",
       "</table>\n",
       "</div>"
      ],
      "text/plain": [
       "          Poorest Country  Poorest GDP  Poorest Population Richest Country  \\\n",
       "Region                                                                       \n",
       "Europe            Ukraine   3224.93517          44386203.0      Luxembourg   \n",
       "Asia          Afghanistan    573.28755          38041754.0           Qatar   \n",
       "Americas            Haiti   1245.01250          11263077.0         Bermuda   \n",
       "Oceania   Solomon Islands   1749.42726            669823.0       Australia   \n",
       "Africa            Burundi    208.07473          11530580.0      Seychelles   \n",
       "\n",
       "           Richest GDP  Richest Population  \n",
       "Region                                      \n",
       "Europe    111043.53170            620001.0  \n",
       "Asia       63281.67468           2832067.0  \n",
       "Americas   94106.36125             64027.0  \n",
       "Oceania    57183.37935          25365745.0  \n",
       "Africa     15048.74693             97625.0  "
      ]
     },
     "execution_count": 257,
     "metadata": {},
     "output_type": "execute_result"
    }
   ],
   "source": [
    "continents = pd.Series(continents)\n",
    "poorest_name = pd.Series(poorest_name)\n",
    "poorest_GDP = pd.Series(poorest_GDP)\n",
    "poorest_population = pd.Series(poorest_population)\n",
    "\n",
    "richest_name = pd.Series(richest_name)\n",
    "richest_GDP = pd.Series(richest_GDP)\n",
    "richest_population = pd.Series(richest_population)\n",
    "\n",
    "\n",
    "table = pd.concat((continents, poorest_name, poorest_GDP, poorest_population, richest_name, richest_GDP, richest_population),  \n",
    "                  axis =1)\n",
    "\n",
    "table = table.rename(columns={0: 'Region', 1: 'Poorest Country', 2: 'Poorest GDP', 3: 'Poorest Population', 4: 'Richest Country', \n",
    "                              5: 'Richest GDP', 6: 'Richest Population'})\n",
    "table = table.set_index('Region')\n",
    "\n",
    "table\n"
   ]
  },
  {
   "cell_type": "markdown",
   "id": "0170b003-5ce2-4e7a-bf14-ae3493e39afd",
   "metadata": {},
   "source": [
    "I converted my lists from the previous questions into Series and then I concatanated those lists into a data set. \n",
    "<h3> 6.9 </h3>\n",
    "Comment the list of poorest and richest countries. What do you think about these lists. Did you know that Bermuda is the richest country in Americas? Do you know why? Why do most of the rich countries have small population?\n",
    "\n",
    "The order of the poorest and richest countries of each region follows the same patterns as the average GDP for each region, so I believe this dataframe makes sense. I don't think Bermuda is really the richest country in the Americas. The values we are using in this dataset represent GDP per capita, so smaller countries would have a higher wealth. \n",
    "\n",
    "<h2> 7 Health </h2>\n",
    "<h3> 7.1 </h3>\n"
   ]
  },
  {
   "cell_type": "code",
   "execution_count": 267,
   "id": "79def1e3-d532-40d7-88ec-8da720b25247",
   "metadata": {},
   "outputs": [
    {
     "data": {
      "text/plain": [
       "27"
      ]
     },
     "execution_count": 267,
     "metadata": {},
     "output_type": "execute_result"
    }
   ],
   "source": [
    "gm_1960 = gm[gm.time == 1960]\n",
    "gm_1960.lifeExpectancy.isna().sum()"
   ]
  },
  {
   "cell_type": "code",
   "execution_count": 268,
   "id": "338527ed-5130-4a7d-8ced-52c243e2d76f",
   "metadata": {},
   "outputs": [
    {
     "data": {
      "text/plain": [
       "19"
      ]
     },
     "execution_count": 268,
     "metadata": {},
     "output_type": "execute_result"
    }
   ],
   "source": [
    "gm_2019 = gm[gm.time == 2019]\n",
    "gm_2019.lifeExpectancy.isna().sum()"
   ]
  },
  {
   "cell_type": "markdown",
   "id": "263ad37e-e50d-45e6-b5ce-de5aea4891a6",
   "metadata": {},
   "source": [
    "I made new dataframes for each year and then found that there were 27 missing values for life expectancy in 1960 and 19 in 2019. The difference between these two values is really small indicating that life expectancy has been a common and popular measure throughout the years. \n",
    "<h3> 7.2 </h3>"
   ]
  },
  {
   "cell_type": "code",
   "execution_count": 278,
   "id": "53aa4951-67c4-4c27-b5f3-e49921f20225",
   "metadata": {},
   "outputs": [
    {
     "name": "stdout",
     "output_type": "stream",
     "text": [
      "             name  lifeExpectancy    time\n",
      "10581  San Marino        85.41707  2012.0\n",
      "          name  lifeExpectancy    time\n",
      "6097  Cambodia          18.907  1977.0\n"
     ]
    }
   ],
   "source": [
    "longest = gm.lifeExpectancy.max()\n",
    "shortest = gm.lifeExpectancy.min()\n",
    "gm4 = gm[gm.lifeExpectancy == longest]\n",
    "gm4 = gm4[[\"name\", \"lifeExpectancy\", \"time\"]]\n",
    "print(gm4)\n",
    "gm5 = gm[gm.lifeExpectancy == shortest]\n",
    "gm5 = gm5[[\"name\", \"lifeExpectancy\", \"time\"]]\n",
    "print(gm5)\n"
   ]
  },
  {
   "cell_type": "markdown",
   "id": "24feddfe-868b-4f83-9c11-2902a84609f0",
   "metadata": {},
   "source": [
    "<h3> 7.3 </h3>\n",
    "There was a Cambodian genocide in 1977 which would explaiun why Cambodia has such a low life expectancy in 1977.\n",
    "<h3> 7.4"
   ]
  },
  {
   "cell_type": "code",
   "execution_count": 410,
   "id": "88a4626b-1aa9-482e-a1c4-a6155fa583e9",
   "metadata": {},
   "outputs": [
    {
     "name": "stdout",
     "output_type": "stream",
     "text": [
      "                 name  lifeExpectancy    region\n",
      "3310          Algeria        76.88000    Africa\n",
      "2821   Cayman Islands        82.19024  Americas\n",
      "4995        Hong Kong        85.07805      Asia\n",
      "10581      San Marino        85.41707    Europe\n",
      "663         Australia        82.90000   Oceania\n",
      "                         name  lifeExpectancy    region\n",
      "10079                  Rwanda          26.172    Africa\n",
      "5117                    Haiti          41.762  Americas\n",
      "6097                 Cambodia          18.907      Asia\n",
      "1265   Bosnia and Herzegovina          60.353    Europe\n",
      "9386         Papua New Guinea          38.935   Oceania\n"
     ]
    }
   ],
   "source": [
    "max_exp = gm.loc[gm.groupby('region')['lifeExpectancy'].idxmax()]\n",
    "max_exp = max_exp[[\"name\", \"lifeExpectancy\", \"region\"]]\n",
    "\n",
    "min_exp = gm.loc[gm.groupby('region')['lifeExpectancy'].idxmin()]\n",
    "min_exp = min_exp[[\"name\", \"lifeExpectancy\", \"region\"]]\n",
    "\n",
    "print(max_exp)\n",
    "print(min_exp)"
   ]
  },
  {
   "cell_type": "markdown",
   "id": "df4210ef-552f-4a4b-9816-a3f464e92953",
   "metadata": {},
   "source": [
    "I grouped the data by regions and then found the value for the shortest and longest life expectancy for each region with their corresponding country names.\n",
    "<h3>7.5</h3>"
   ]
  },
  {
   "cell_type": "code",
   "execution_count": 352,
   "id": "2f7a5822-2d38-49b3-91bc-b05ceb060eee",
   "metadata": {},
   "outputs": [
    {
     "data": {
      "text/html": [
       "<div>\n",
       "<style scoped>\n",
       "    .dataframe tbody tr th:only-of-type {\n",
       "        vertical-align: middle;\n",
       "    }\n",
       "\n",
       "    .dataframe tbody tr th {\n",
       "        vertical-align: top;\n",
       "    }\n",
       "\n",
       "    .dataframe thead th {\n",
       "        text-align: right;\n",
       "    }\n",
       "</style>\n",
       "<table border=\"1\" class=\"dataframe\">\n",
       "  <thead>\n",
       "    <tr style=\"text-align: right;\">\n",
       "      <th></th>\n",
       "      <th>name</th>\n",
       "      <th>time</th>\n",
       "      <th>lifeExpectancy</th>\n",
       "    </tr>\n",
       "  </thead>\n",
       "  <tbody>\n",
       "    <tr>\n",
       "      <th>60</th>\n",
       "      <td>Afghanistan</td>\n",
       "      <td>1960.0</td>\n",
       "      <td>32.44600</td>\n",
       "    </tr>\n",
       "    <tr>\n",
       "      <th>182</th>\n",
       "      <td>Albania</td>\n",
       "      <td>1960.0</td>\n",
       "      <td>62.28300</td>\n",
       "    </tr>\n",
       "    <tr>\n",
       "      <th>3251</th>\n",
       "      <td>Algeria</td>\n",
       "      <td>1960.0</td>\n",
       "      <td>46.14100</td>\n",
       "    </tr>\n",
       "    <tr>\n",
       "      <th>120</th>\n",
       "      <td>Angola</td>\n",
       "      <td>1960.0</td>\n",
       "      <td>37.52400</td>\n",
       "    </tr>\n",
       "    <tr>\n",
       "      <th>544</th>\n",
       "      <td>Antigua and Barbuda</td>\n",
       "      <td>1960.0</td>\n",
       "      <td>61.96800</td>\n",
       "    </tr>\n",
       "    <tr>\n",
       "      <th>...</th>\n",
       "      <td>...</td>\n",
       "      <td>...</td>\n",
       "      <td>...</td>\n",
       "    </tr>\n",
       "    <tr>\n",
       "      <th>12634</th>\n",
       "      <td>Viet Nam</td>\n",
       "      <td>1960.0</td>\n",
       "      <td>59.03900</td>\n",
       "    </tr>\n",
       "    <tr>\n",
       "      <th>12574</th>\n",
       "      <td>Virgin Islands (U.S.)</td>\n",
       "      <td>1960.0</td>\n",
       "      <td>66.22485</td>\n",
       "    </tr>\n",
       "    <tr>\n",
       "      <th>12815</th>\n",
       "      <td>Yemen</td>\n",
       "      <td>1960.0</td>\n",
       "      <td>29.91900</td>\n",
       "    </tr>\n",
       "    <tr>\n",
       "      <th>12935</th>\n",
       "      <td>Zambia</td>\n",
       "      <td>1960.0</td>\n",
       "      <td>46.68700</td>\n",
       "    </tr>\n",
       "    <tr>\n",
       "      <th>12995</th>\n",
       "      <td>Zimbabwe</td>\n",
       "      <td>1960.0</td>\n",
       "      <td>53.01900</td>\n",
       "    </tr>\n",
       "  </tbody>\n",
       "</table>\n",
       "<p>204 rows × 3 columns</p>\n",
       "</div>"
      ],
      "text/plain": [
       "                        name    time  lifeExpectancy\n",
       "60               Afghanistan  1960.0        32.44600\n",
       "182                  Albania  1960.0        62.28300\n",
       "3251                 Algeria  1960.0        46.14100\n",
       "120                   Angola  1960.0        37.52400\n",
       "544      Antigua and Barbuda  1960.0        61.96800\n",
       "...                      ...     ...             ...\n",
       "12634               Viet Nam  1960.0        59.03900\n",
       "12574  Virgin Islands (U.S.)  1960.0        66.22485\n",
       "12815                  Yemen  1960.0        29.91900\n",
       "12935                 Zambia  1960.0        46.68700\n",
       "12995               Zimbabwe  1960.0        53.01900\n",
       "\n",
       "[204 rows x 3 columns]"
      ]
     },
     "execution_count": 352,
     "metadata": {},
     "output_type": "execute_result"
    }
   ],
   "source": [
    "gm7 = gm[~gm.lifeExpectancy.isna()]\n",
    "gm7 = gm7.iloc[:, [1, 6, 9]]\n",
    "gm7 = gm7.loc[gm7.groupby('name')['time'].idxmin()]\n",
    "gm7"
   ]
  },
  {
   "cell_type": "markdown",
   "id": "9571253b-bda6-49de-a3e1-63c0768e84a8",
   "metadata": {},
   "source": [
    "https://datascience.stackexchange.com/questions/26308/after-grouping-to-minimum-value-in-pandas-how-to-display-the-matching-row-resul\n",
    "\n",
    "I used the above link to understand how to use indexes to extract specific colums from a grouped dataframe.\n",
    "\n",
    "For this question I removed all na values from lifeexpectancy and then grouped the dataframe by country name. Then I extracted the minimum time row for each country and created a dataframe that only includes the lowest time and life expectancy for each country. \n",
    "<h3> 7.6 </h3>"
   ]
  },
  {
   "cell_type": "code",
   "execution_count": 353,
   "id": "23c1aaae-9547-4616-8fca-d30ad6f619b2",
   "metadata": {},
   "outputs": [
    {
     "data": {
      "text/html": [
       "<div>\n",
       "<style scoped>\n",
       "    .dataframe tbody tr th:only-of-type {\n",
       "        vertical-align: middle;\n",
       "    }\n",
       "\n",
       "    .dataframe tbody tr th {\n",
       "        vertical-align: top;\n",
       "    }\n",
       "\n",
       "    .dataframe thead th {\n",
       "        text-align: right;\n",
       "    }\n",
       "</style>\n",
       "<table border=\"1\" class=\"dataframe\">\n",
       "  <thead>\n",
       "    <tr style=\"text-align: right;\">\n",
       "      <th></th>\n",
       "      <th>name</th>\n",
       "      <th>time</th>\n",
       "      <th>lifeExpectancy</th>\n",
       "    </tr>\n",
       "  </thead>\n",
       "  <tbody>\n",
       "    <tr>\n",
       "      <th>119</th>\n",
       "      <td>Afghanistan</td>\n",
       "      <td>2019.0</td>\n",
       "      <td>64.83300</td>\n",
       "    </tr>\n",
       "    <tr>\n",
       "      <th>241</th>\n",
       "      <td>Albania</td>\n",
       "      <td>2019.0</td>\n",
       "      <td>78.57300</td>\n",
       "    </tr>\n",
       "    <tr>\n",
       "      <th>3310</th>\n",
       "      <td>Algeria</td>\n",
       "      <td>2019.0</td>\n",
       "      <td>76.88000</td>\n",
       "    </tr>\n",
       "    <tr>\n",
       "      <th>179</th>\n",
       "      <td>Angola</td>\n",
       "      <td>2019.0</td>\n",
       "      <td>61.14700</td>\n",
       "    </tr>\n",
       "    <tr>\n",
       "      <th>603</th>\n",
       "      <td>Antigua and Barbuda</td>\n",
       "      <td>2019.0</td>\n",
       "      <td>77.01600</td>\n",
       "    </tr>\n",
       "    <tr>\n",
       "      <th>...</th>\n",
       "      <td>...</td>\n",
       "      <td>...</td>\n",
       "      <td>...</td>\n",
       "    </tr>\n",
       "    <tr>\n",
       "      <th>12693</th>\n",
       "      <td>Viet Nam</td>\n",
       "      <td>2019.0</td>\n",
       "      <td>75.40000</td>\n",
       "    </tr>\n",
       "    <tr>\n",
       "      <th>12633</th>\n",
       "      <td>Virgin Islands (U.S.)</td>\n",
       "      <td>2019.0</td>\n",
       "      <td>79.66829</td>\n",
       "    </tr>\n",
       "    <tr>\n",
       "      <th>12874</th>\n",
       "      <td>Yemen</td>\n",
       "      <td>2019.0</td>\n",
       "      <td>66.12500</td>\n",
       "    </tr>\n",
       "    <tr>\n",
       "      <th>12994</th>\n",
       "      <td>Zambia</td>\n",
       "      <td>2019.0</td>\n",
       "      <td>63.88600</td>\n",
       "    </tr>\n",
       "    <tr>\n",
       "      <th>13054</th>\n",
       "      <td>Zimbabwe</td>\n",
       "      <td>2019.0</td>\n",
       "      <td>61.49000</td>\n",
       "    </tr>\n",
       "  </tbody>\n",
       "</table>\n",
       "<p>204 rows × 3 columns</p>\n",
       "</div>"
      ],
      "text/plain": [
       "                        name    time  lifeExpectancy\n",
       "119              Afghanistan  2019.0        64.83300\n",
       "241                  Albania  2019.0        78.57300\n",
       "3310                 Algeria  2019.0        76.88000\n",
       "179                   Angola  2019.0        61.14700\n",
       "603      Antigua and Barbuda  2019.0        77.01600\n",
       "...                      ...     ...             ...\n",
       "12693               Viet Nam  2019.0        75.40000\n",
       "12633  Virgin Islands (U.S.)  2019.0        79.66829\n",
       "12874                  Yemen  2019.0        66.12500\n",
       "12994                 Zambia  2019.0        63.88600\n",
       "13054               Zimbabwe  2019.0        61.49000\n",
       "\n",
       "[204 rows x 3 columns]"
      ]
     },
     "execution_count": 353,
     "metadata": {},
     "output_type": "execute_result"
    }
   ],
   "source": [
    "gm8 = gm[~gm.lifeExpectancy.isna()]\n",
    "gm8 = gm8.iloc[:, [1, 6, 9]]\n",
    "gm8 = gm8.loc[gm8.groupby('name')['time'].idxmax()]\n",
    "gm8"
   ]
  },
  {
   "cell_type": "markdown",
   "id": "32d21187-4211-4ad9-9f53-fe2fc064cf48",
   "metadata": {},
   "source": [
    "I repeated the sae process as the previous question but I found the lastest time instead.\n",
    "<h3> 7.7 </h3>"
   ]
  },
  {
   "cell_type": "code",
   "execution_count": 399,
   "id": "5e40738e-9874-4577-9270-eb0f8dc90100",
   "metadata": {},
   "outputs": [],
   "source": [
    "new_table = pd.merge(gm7, gm8, on= \"name\")\n",
    "n= new_table[\"time_y\"] - new_table[\"time_x\"]\n",
    "new_table[\"growth\"] = 100* ((new_table['lifeExpectancy_y']/new_table['lifeExpectancy_x'])**(1/(new_table[\"time_y\"] - new_table[\"time_x\"]))-1)\n",
    "new_table = new_table.set_index(\"name\")\n"
   ]
  },
  {
   "cell_type": "code",
   "execution_count": 401,
   "id": "3e1f8549-b322-4f0a-98d8-c851ca68b4de",
   "metadata": {},
   "outputs": [
    {
     "data": {
      "text/plain": [
       "name\n",
       "Marshall Islands   -0.770640\n",
       "Cayman Islands      0.000000\n",
       "San Marino          0.000000\n",
       "Palau               0.005789\n",
       "Ukraine             0.085396\n",
       "Latvia              0.127581\n",
       "Bulgaria            0.133413\n",
       "Lithuania           0.146183\n",
       "Seychelles          0.155447\n",
       "Belarus             0.155918\n",
       "Name: growth, dtype: float64"
      ]
     },
     "execution_count": 401,
     "metadata": {},
     "output_type": "execute_result"
    }
   ],
   "source": [
    "smallest_rate = new_table.growth.nsmallest(10)\n",
    "smallest_rate\n"
   ]
  },
  {
   "cell_type": "code",
   "execution_count": 403,
   "id": "1cc5bd16-435e-409f-b53a-41d1ce1b8dc0",
   "metadata": {},
   "outputs": [
    {
     "data": {
      "text/plain": [
       "name\n",
       "Yemen          1.353232\n",
       "Maldives       1.276385\n",
       "Mali           1.268013\n",
       "Bhutan         1.248151\n",
       "Timor-Leste    1.232786\n",
       "Afghanistan    1.180194\n",
       "Nepal          1.172379\n",
       "Gambia         1.125813\n",
       "Liberia        1.067371\n",
       "Tunisia        1.025081\n",
       "Name: growth, dtype: float64"
      ]
     },
     "execution_count": 403,
     "metadata": {},
     "output_type": "execute_result"
    }
   ],
   "source": [
    "largest_rate = new_table.growth.nlargest(10)\n",
    "largest_rate"
   ]
  },
  {
   "cell_type": "markdown",
   "id": "041668e0-c53b-4510-ad37-0f3472a56e03",
   "metadata": {},
   "source": [
    "I merged the tables from the previous questions to create a new table. I then added a new colomn named growth that calculates the GDP growth using the formula given in the previous question. I then ordered the growth rates to get the 10 ten smallest growth countries and also the top 10 largest growth countries. \n",
    "<h3> 7.8 </h3>\n",
    " Do you see a pattern (or multiple patterns) here? Remember: you are looking at growth of life expectancy over an extended period."
   ]
  },
  {
   "cell_type": "markdown",
   "id": "c0fc1755-41f2-4902-9cf4-771ae3761eee",
   "metadata": {},
   "source": [
    "Some countries that were considerd to be the poorest also have a low growth rate for life expectancy. for example Ukraine. It is surprising that Afghaniztan which was considered to be the poorest country actually has a high life expectancy growth rate. "
   ]
  },
  {
   "cell_type": "markdown",
   "id": "bd0bece5-91c9-42f2-ba74-f85a26d9d11e",
   "metadata": {},
   "source": [
    "Overall this Assignment took me around 7 hours of work. "
   ]
  },
  {
   "cell_type": "code",
   "execution_count": null,
   "id": "93ee46e1-8e28-49da-8941-7aa79fb883dc",
   "metadata": {},
   "outputs": [],
   "source": []
  }
 ],
 "metadata": {
  "kernelspec": {
   "display_name": "Python 3 (ipykernel)",
   "language": "python",
   "name": "python3"
  },
  "language_info": {
   "codemirror_mode": {
    "name": "ipython",
    "version": 3
   },
   "file_extension": ".py",
   "mimetype": "text/x-python",
   "name": "python",
   "nbconvert_exporter": "python",
   "pygments_lexer": "ipython3",
   "version": "3.9.7"
  }
 },
 "nbformat": 4,
 "nbformat_minor": 5
}
